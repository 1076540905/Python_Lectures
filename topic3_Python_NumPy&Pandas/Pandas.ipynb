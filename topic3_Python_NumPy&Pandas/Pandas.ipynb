{
 "cells": [
  {
   "cell_type": "markdown",
   "metadata": {},
   "source": [
    "# Pandas\n",
    "Pandas 是 Python 的核心数据分析支持库，提供了快速、灵活、明确的数据结构，旨在简单、直观地处理关系型、标记型数据。Pandas 的目标是成为 Python 数据分析实践与实战的必备高级工具，其长远目标是成为最强大、最灵活、可以支持任何语言的开源数据分析工具。经过多年不懈的努力，Pandas 离这个目标已经越来越近了。\n",
    "\n",
    "Pandas 的主要数据结构是 Series（一维数据）与 DataFrame（二维数据），这两种数据结构足以处理金融、统计、社会科学、工程等领域里的大多数典型用例。\n",
    "\n",
    "### Pandas 就像一把万能瑞士军刀，下面仅列出了它的部分优势 ：\n",
    "\n",
    "处理浮点与非浮点数据里的缺失数据，表示为 NaN；\n",
    "\n",
    "大小可变：插入或删除 DataFrame 等多维对象的列；\n",
    "\n",
    "自动、显式数据对齐：显式地将对象与一组标签对齐，也可以忽略标签，在 Series、DataFrame 计算时自动与数据对齐；\n",
    "\n",
    "强大、灵活的分组（group by）功能：拆分-应用-组合数据集，聚合、转换数据；\n",
    "\n",
    "把 Python 和 NumPy 数据结构里不规则、不同索引的数据轻松地转换为 DataFrame 对象；\n",
    "\n",
    "基于智能标签，对大型数据集进行切片、花式索引、子集分解等操作；\n",
    "\n",
    "直观地合并（merge）、连接（join）数据集；\n",
    "\n",
    "灵活地重塑（reshape）、透视（pivot）数据集；\n",
    "\n",
    "轴支持结构化标签：一个刻度支持多个标签；\n",
    "\n",
    "成熟的 IO 工具：读取文本文件（CSV 等支持分隔符的文件）、Excel 文件、数据库等来源的数据，利用超快的 HDF5 格式保存 / 加载数据；\n",
    "\n",
    "时间序列：支持日期范围生成、频率转换、移动窗口统计、移动窗口线性回归、日期位移等时间序列功能。"
   ]
  },
  {
   "cell_type": "markdown",
   "metadata": {},
   "source": [
    "## 生成对象"
   ]
  },
  {
   "cell_type": "code",
   "execution_count": 3,
   "metadata": {},
   "outputs": [],
   "source": [
    "import numpy as np\n",
    "import pandas as pd"
   ]
  },
  {
   "cell_type": "markdown",
   "metadata": {},
   "source": [
    "### 生成Series"
   ]
  },
  {
   "cell_type": "code",
   "execution_count": 18,
   "metadata": {},
   "outputs": [
    {
     "name": "stdout",
     "output_type": "stream",
     "text": [
      "0    1.0\n",
      "1    3.0\n",
      "2    5.0\n",
      "3    NaN\n",
      "4    6.0\n",
      "5    8.0\n",
      "dtype: float64\n"
     ]
    }
   ],
   "source": [
    "s = pd.Series([1, 3, 5, np.nan, 6, 8])\n",
    "print(s)"
   ]
  },
  {
   "cell_type": "markdown",
   "metadata": {},
   "source": [
    "### 用含日期时间索引与标签的 NumPy 数组生成 DataFrame："
   ]
  },
  {
   "cell_type": "code",
   "execution_count": 5,
   "metadata": {},
   "outputs": [
    {
     "name": "stdout",
     "output_type": "stream",
     "text": [
      "DatetimeIndex(['2013-01-01', '2013-01-02', '2013-01-03', '2013-01-04',\n",
      "               '2013-01-05', '2013-01-06'],\n",
      "              dtype='datetime64[ns]', freq='D')\n"
     ]
    }
   ],
   "source": [
    "dates = pd.date_range('20130101', periods=6)\n",
    "print(dates)"
   ]
  },
  {
   "cell_type": "code",
   "execution_count": 6,
   "metadata": {},
   "outputs": [
    {
     "name": "stdout",
     "output_type": "stream",
     "text": [
      "                   A         B         C         D\n",
      "2013-01-01 -0.709539 -0.341790  2.836386 -0.786879\n",
      "2013-01-02  1.675770 -0.524738 -0.575516  0.900208\n",
      "2013-01-03  0.184591  0.162533 -1.991671 -0.988049\n",
      "2013-01-04 -0.488642  0.550585 -0.454073 -0.373032\n",
      "2013-01-05  0.275919  0.502770 -0.793400  0.647785\n",
      "2013-01-06 -0.241352  1.576005 -0.145363  0.335682\n"
     ]
    }
   ],
   "source": [
    "df = pd.DataFrame(np.random.randn(6, 4), index=dates, columns=list('ABCD'))\n",
    "print(df)"
   ]
  },
  {
   "cell_type": "markdown",
   "metadata": {},
   "source": [
    "### 用 Series 字典对象生成 DataFrame:"
   ]
  },
  {
   "cell_type": "code",
   "execution_count": 8,
   "metadata": {},
   "outputs": [
    {
     "name": "stdout",
     "output_type": "stream",
     "text": [
      "     A          B    C  D      E    F\n",
      "0  1.0 2013-01-02  1.0  3   test  foo\n",
      "1  1.0 2013-01-02  1.0  3  train  foo\n",
      "2  1.0 2013-01-02  1.0  3   test  foo\n",
      "3  1.0 2013-01-02  1.0  3  train  foo\n",
      "A           float64\n",
      "B    datetime64[ns]\n",
      "C           float32\n",
      "D             int32\n",
      "E            object\n",
      "F            object\n",
      "dtype: object\n"
     ]
    }
   ],
   "source": [
    "df2 = pd.DataFrame({'A': 1.,\n",
    "                             'B': pd.to_datetime('20130102',format='%Y-%m-%d'),\n",
    "                             'C': pd.Series(1, index=list(range(4)), dtype='float32'),\n",
    "                             'D': np.array([3,3,3,3], dtype='int32'),\n",
    "                             'E': pd.Series([\"test\", \"train\", \"test\", \"train\"]),\n",
    "                             'F': 'foo'})\n",
    "print(df2)\n",
    "print(df2.dtypes)\n"
   ]
  },
  {
   "cell_type": "code",
   "execution_count": 38,
   "metadata": {},
   "outputs": [
    {
     "name": "stdout",
     "output_type": "stream",
     "text": [
      "                   A         B         C         D\n",
      "2013-01-01 -1.091405  0.309179 -0.058518  0.298177\n",
      "2013-01-02 -1.006007  0.644974  0.422254 -0.477572\n",
      "2013-01-03 -0.081074 -1.926293  2.188508 -0.103502\n"
     ]
    }
   ],
   "source": [
    "dates = pd.date_range('20130101', periods=6)\n",
    "df = pd.DataFrame(np.random.randn(6, 4), index=dates, columns=list('ABCD'))\n",
    "print(df.head(3))"
   ]
  },
  {
   "cell_type": "code",
   "execution_count": 39,
   "metadata": {},
   "outputs": [
    {
     "name": "stdout",
     "output_type": "stream",
     "text": [
      "                   A         B         C         D\n",
      "2013-01-04 -1.185851 -1.490923 -0.789579  1.485007\n",
      "2013-01-05  0.778822 -0.146754 -0.891747  0.543042\n",
      "2013-01-06  0.985213  1.247656  1.239037 -0.337792\n"
     ]
    }
   ],
   "source": [
    "dates = pd.date_range('20130101', periods=6)\n",
    "df = pd.DataFrame(np.random.randn(6, 4), index=dates, columns=list('ABCD'))\n",
    "print(df.tail(3))"
   ]
  },
  {
   "cell_type": "code",
   "execution_count": 40,
   "metadata": {},
   "outputs": [
    {
     "name": "stdout",
     "output_type": "stream",
     "text": [
      "DatetimeIndex(['2013-01-01', '2013-01-02', '2013-01-03', '2013-01-04',\n",
      "               '2013-01-05', '2013-01-06'],\n",
      "              dtype='datetime64[ns]', freq='D')\n"
     ]
    }
   ],
   "source": [
    "dates = pd.date_range('20130101', periods=6)\n",
    "df = pd.DataFrame(np.random.randn(6, 4), index=dates, columns=list('ABCD'))\n",
    "print(df.index)"
   ]
  },
  {
   "cell_type": "code",
   "execution_count": 41,
   "metadata": {},
   "outputs": [
    {
     "name": "stdout",
     "output_type": "stream",
     "text": [
      "Index(['A', 'B', 'C', 'D'], dtype='object')\n"
     ]
    }
   ],
   "source": [
    "dates = pd.date_range('20130101', periods=6)\n",
    "df = pd.DataFrame(np.random.randn(6, 4), index=dates, columns=list('ABCD'))\n",
    "print(df.columns)"
   ]
  },
  {
   "cell_type": "markdown",
   "metadata": {},
   "source": [
    "### DataFrame.to_numpy() 输出底层数据的 NumPy 对象。\n",
    "\n",
    "注意，DataFrame 的列由多种数据类型组成时，该操作耗费系统资源较大，这也是 Pandas 和 NumPy 的本质区别：NumPy 数组只有一种数据类型，DataFrame 每列的数据类型各不相同。\n",
    "\n",
    "下面的 df 这个 DataFrame 里的值都是浮点数，DataFrame.to_numpy() 的操作会很快，而且不复制数据。"
   ]
  },
  {
   "cell_type": "code",
   "execution_count": 42,
   "metadata": {},
   "outputs": [
    {
     "name": "stdout",
     "output_type": "stream",
     "text": [
      "[[ 1.87592911 -0.3693373   0.6693284  -1.27903389]\n",
      " [-0.93042269  0.44748041 -0.7539966   1.19133735]\n",
      " [-0.67071683  0.61598585 -1.4072476  -0.21533267]\n",
      " [ 1.23742817 -0.60314337 -0.62851206 -0.54950727]\n",
      " [ 0.49602405 -0.51556925 -0.69895235 -0.08520349]\n",
      " [-0.97577176 -0.64414177  1.15567795 -0.46478848]]\n"
     ]
    }
   ],
   "source": [
    "df = pd.DataFrame(np.random.randn(6, 4), index=dates, columns=list('ABCD'))\n",
    "print(df.to_numpy())"
   ]
  },
  {
   "cell_type": "markdown",
   "metadata": {},
   "source": [
    "df2 这个 DataFrame 包含了多种类型，DataFrame.to_numpy() 操作就会耗费较多资源。"
   ]
  },
  {
   "cell_type": "code",
   "execution_count": 9,
   "metadata": {},
   "outputs": [
    {
     "name": "stdout",
     "output_type": "stream",
     "text": [
      "[[1.0 Timestamp('2013-01-02 00:00:00') 1.0 3 'test' 'foo']\n",
      " [1.0 Timestamp('2013-01-02 00:00:00') 1.0 3 'train' 'foo']\n",
      " [1.0 Timestamp('2013-01-02 00:00:00') 1.0 3 'test' 'foo']\n",
      " [1.0 Timestamp('2013-01-02 00:00:00') 1.0 3 'train' 'foo']]\n"
     ]
    }
   ],
   "source": [
    "df2 = pd.DataFrame({'A': 1.,\n",
    "                             'B': pd.to_datetime('20130102',format='%Y-%m-%d'),\n",
    "                             'C': pd.Series(1, index=list(range(4)), dtype='float32'),\n",
    "                             'D': np.array([3,3,3,3], dtype='int32'),\n",
    "                             'E': pd.Series([\"test\", \"train\", \"test\", \"train\"]),\n",
    "                             'F': 'foo'})\n",
    "print(df2.to_numpy())"
   ]
  },
  {
   "cell_type": "markdown",
   "metadata": {},
   "source": [
    "### describe() 可以快速查看数据的统计摘要："
   ]
  },
  {
   "cell_type": "code",
   "execution_count": 10,
   "metadata": {},
   "outputs": [
    {
     "name": "stdout",
     "output_type": "stream",
     "text": [
      "              A         B         C         D\n",
      "count  6.000000  6.000000  6.000000  6.000000\n",
      "mean  -0.073748 -0.232930 -0.155807  0.299670\n",
      "std    1.143636  0.811004  0.451076  0.835358\n",
      "min   -1.385395 -1.169713 -0.753818 -0.916890\n",
      "25%   -0.578085 -0.903124 -0.514257 -0.060465\n",
      "50%   -0.410641 -0.270892 -0.012875  0.232216\n",
      "75%    0.241103  0.469594  0.183747  0.751481\n",
      "max    1.939736  0.711360  0.276822  1.483931\n"
     ]
    }
   ],
   "source": [
    "dates = pd.date_range('20130101', periods=6)\n",
    "df = pd.DataFrame(np.random.randn(6, 4), index=dates, columns=list('ABCD'))\n",
    "print(df.describe())"
   ]
  },
  {
   "cell_type": "markdown",
   "metadata": {},
   "source": [
    "### 转置数据："
   ]
  },
  {
   "cell_type": "code",
   "execution_count": 50,
   "metadata": {},
   "outputs": [
    {
     "name": "stdout",
     "output_type": "stream",
     "text": [
      "                   A         B         C         D\n",
      "2013-01-01 -0.312033 -1.376513 -1.029000 -0.897852\n",
      "2013-01-02  0.742277 -1.054327 -0.743012  0.325237\n",
      "2013-01-03  0.733841  2.395040 -0.073338 -0.822928\n",
      "2013-01-04  0.033510  0.652729 -0.756927  0.663468\n",
      "2013-01-05 -0.637908  1.437460 -0.161054 -1.448035\n",
      "2013-01-06 -1.025084  0.662849  0.923985  0.029649\n",
      "   2013-01-01  2013-01-02  2013-01-03  2013-01-04  2013-01-05  2013-01-06\n",
      "A   -0.312033    0.742277    0.733841    0.033510   -0.637908   -1.025084\n",
      "B   -1.376513   -1.054327    2.395040    0.652729    1.437460    0.662849\n",
      "C   -1.029000   -0.743012   -0.073338   -0.756927   -0.161054    0.923985\n",
      "D   -0.897852    0.325237   -0.822928    0.663468   -1.448035    0.029649\n"
     ]
    }
   ],
   "source": [
    "dates = pd.date_range('20130101', periods=6)\n",
    "df = pd.DataFrame(np.random.randn(6, 4), index=dates, columns=list('ABCD'))\n",
    "print(df)\n",
    "print(df.T)"
   ]
  },
  {
   "cell_type": "markdown",
   "metadata": {},
   "source": [
    "### 按轴排序："
   ]
  },
  {
   "cell_type": "code",
   "execution_count": 52,
   "metadata": {},
   "outputs": [
    {
     "name": "stdout",
     "output_type": "stream",
     "text": [
      "                   D         C         B         A\n",
      "2013-01-01 -0.281787  1.726453 -0.417050 -0.005866\n",
      "2013-01-02  0.415535 -1.721208 -1.370694  0.412784\n",
      "2013-01-03 -0.558277 -0.650820 -0.244325 -0.791497\n",
      "2013-01-04  1.096594  1.012647 -0.256957 -0.352192\n",
      "2013-01-05 -0.368470 -0.686866  1.224056 -1.840544\n",
      "2013-01-06  1.112427  0.999046 -1.980807 -0.095794\n"
     ]
    }
   ],
   "source": [
    "dates = pd.date_range('20130101', periods=6)\n",
    "df = pd.DataFrame(np.random.randn(6, 4), index=dates, columns=list('ABCD'))\n",
    "df = df.sort_index(axis=1, ascending=False) #axis=1, 按列名排序\n",
    "print(df)"
   ]
  },
  {
   "cell_type": "markdown",
   "metadata": {},
   "source": [
    "### 按值排序："
   ]
  },
  {
   "cell_type": "code",
   "execution_count": 53,
   "metadata": {},
   "outputs": [
    {
     "name": "stdout",
     "output_type": "stream",
     "text": [
      "                   A         B         C         D\n",
      "2013-01-06  1.283945 -0.777988 -1.701169  0.792409\n",
      "2013-01-02  0.270849 -0.495233 -0.056265  0.236492\n",
      "2013-01-01 -0.796027  0.143266 -0.433567  0.874485\n",
      "2013-01-04 -1.083131  0.359276 -1.127634  0.039461\n",
      "2013-01-03 -1.051326  0.398405 -0.509520  0.046623\n",
      "2013-01-05 -3.222740  0.872441 -0.186973 -1.352750\n"
     ]
    }
   ],
   "source": [
    "dates = pd.date_range('20130101', periods=6)\n",
    "df = pd.DataFrame(np.random.randn(6, 4), index=dates, columns=list('ABCD'))\n",
    "df = df.sort_values(by='B')\n",
    "print(df)"
   ]
  },
  {
   "cell_type": "markdown",
   "metadata": {},
   "source": [
    "## 选择"
   ]
  },
  {
   "cell_type": "markdown",
   "metadata": {},
   "source": [
    "### 获取数据\n",
    "选择单列，产生 Series，与 df.A 等效："
   ]
  },
  {
   "cell_type": "code",
   "execution_count": 54,
   "metadata": {},
   "outputs": [
    {
     "name": "stdout",
     "output_type": "stream",
     "text": [
      "2013-01-01    0.558239\n",
      "2013-01-02   -1.078273\n",
      "2013-01-03   -0.380741\n",
      "2013-01-04   -1.297603\n",
      "2013-01-05    0.310838\n",
      "2013-01-06   -0.031661\n",
      "Freq: D, Name: A, dtype: float64\n"
     ]
    }
   ],
   "source": [
    "dates = pd.date_range('20130101', periods=6)\n",
    "df = pd.DataFrame(np.random.randn(6, 4), index=dates, columns=list('ABCD'))\n",
    "print(df['A'])"
   ]
  },
  {
   "cell_type": "markdown",
   "metadata": {},
   "source": [
    "### 用 [ ] 切片行："
   ]
  },
  {
   "cell_type": "code",
   "execution_count": 56,
   "metadata": {},
   "outputs": [
    {
     "name": "stdout",
     "output_type": "stream",
     "text": [
      "                   A         B         C         D\n",
      "2013-01-01  0.270154 -0.282572 -1.148514 -1.618821\n",
      "2013-01-02 -1.965419 -0.001487  2.354831  0.094445\n",
      "2013-01-03 -1.648174 -1.181112 -0.581668 -0.486575\n",
      "                   A         B         C         D\n",
      "2013-01-01  0.270154 -0.282572 -1.148514 -1.618821\n",
      "2013-01-02 -1.965419 -0.001487  2.354831  0.094445\n",
      "2013-01-03 -1.648174 -1.181112 -0.581668 -0.486575\n",
      "2013-01-04  0.781466  2.075522  0.375409 -1.774411\n"
     ]
    }
   ],
   "source": [
    "dates = pd.date_range('20130101', periods=6)\n",
    "df = pd.DataFrame(np.random.randn(6, 4), index=dates, columns=list('ABCD'))\n",
    "print(df[0:3])\n",
    "print(df['20130101':'20130104'])"
   ]
  },
  {
   "cell_type": "markdown",
   "metadata": {},
   "source": [
    "## 按标签选择"
   ]
  },
  {
   "cell_type": "markdown",
   "metadata": {},
   "source": [
    "用标签提取一行数据："
   ]
  },
  {
   "cell_type": "code",
   "execution_count": 58,
   "metadata": {},
   "outputs": [
    {
     "name": "stdout",
     "output_type": "stream",
     "text": [
      "A   -0.084660\n",
      "B    1.125892\n",
      "C    1.548108\n",
      "D   -0.818318\n",
      "Name: 2013-01-01 00:00:00, dtype: float64\n"
     ]
    }
   ],
   "source": [
    "dates = pd.date_range('20130101', periods=6)\n",
    "df = pd.DataFrame(np.random.randn(6, 4), index=dates, columns=list('ABCD'))\n",
    "df2 = df.loc[dates[0]]\n",
    "print(df2)"
   ]
  },
  {
   "cell_type": "markdown",
   "metadata": {},
   "source": [
    "用标签选择多列数据："
   ]
  },
  {
   "cell_type": "code",
   "execution_count": 59,
   "metadata": {},
   "outputs": [
    {
     "name": "stdout",
     "output_type": "stream",
     "text": [
      "                   A         B\n",
      "2013-01-01 -0.499316  0.429204\n",
      "2013-01-02  1.136238 -1.097927\n",
      "2013-01-03 -0.643321 -0.639839\n",
      "2013-01-04  0.076686  1.337466\n",
      "2013-01-05  0.502435  0.347359\n",
      "2013-01-06 -0.998933  1.045618\n"
     ]
    }
   ],
   "source": [
    "dates = pd.date_range('20130101', periods=6)\n",
    "df = pd.DataFrame(np.random.randn(6, 4), index=dates, columns=list('ABCD'))\n",
    "df2 = df.loc[:, ['A', 'B']]\n",
    "print(df2)"
   ]
  },
  {
   "cell_type": "markdown",
   "metadata": {},
   "source": [
    "用标签切片，包含行与列结束点："
   ]
  },
  {
   "cell_type": "code",
   "execution_count": 60,
   "metadata": {},
   "outputs": [
    {
     "name": "stdout",
     "output_type": "stream",
     "text": [
      "                   A         B\n",
      "2013-01-02  0.924837 -0.028046\n",
      "2013-01-03  0.624350  0.019475\n",
      "2013-01-04  0.366672 -0.148962\n"
     ]
    }
   ],
   "source": [
    "dates = pd.date_range('20130101', periods=6)\n",
    "df = pd.DataFrame(np.random.randn(6, 4), index=dates, columns=list('ABCD'))\n",
    "df2 = df.loc['20130102':'20130104', ['A', 'B']]\n",
    "print(df2)"
   ]
  },
  {
   "cell_type": "markdown",
   "metadata": {},
   "source": [
    "返回对象降维："
   ]
  },
  {
   "cell_type": "code",
   "execution_count": 61,
   "metadata": {},
   "outputs": [
    {
     "name": "stdout",
     "output_type": "stream",
     "text": [
      "A    1.382389\n",
      "B   -0.284478\n",
      "Name: 2013-01-02 00:00:00, dtype: float64\n"
     ]
    }
   ],
   "source": [
    "dates = pd.date_range('20130101', periods=6)\n",
    "df = pd.DataFrame(np.random.randn(6, 4), index=dates, columns=list('ABCD'))\n",
    "df2 = df.loc['20130102', ['A', 'B']]\n",
    "print(df2)"
   ]
  },
  {
   "cell_type": "markdown",
   "metadata": {},
   "source": [
    "提取标量值："
   ]
  },
  {
   "cell_type": "code",
   "execution_count": 68,
   "metadata": {},
   "outputs": [
    {
     "name": "stdout",
     "output_type": "stream",
     "text": [
      "-0.4323551143717852\n"
     ]
    }
   ],
   "source": [
    "dates = pd.date_range('20130101', periods=6)\n",
    "df = pd.DataFrame(np.random.randn(6, 4), index=dates, columns=list('ABCD'))\n",
    "df2 = df.loc[dates[0], 'A']\n",
    "print(df2)"
   ]
  },
  {
   "cell_type": "markdown",
   "metadata": {},
   "source": [
    "快速访问标量，与上述方法等效："
   ]
  },
  {
   "cell_type": "code",
   "execution_count": 11,
   "metadata": {},
   "outputs": [
    {
     "name": "stdout",
     "output_type": "stream",
     "text": [
      "-0.5562230529387123\n"
     ]
    }
   ],
   "source": [
    "df2 = df.at[dates[0], 'A']\n",
    "print(df2)"
   ]
  },
  {
   "cell_type": "markdown",
   "metadata": {},
   "source": [
    "## 按位置选择"
   ]
  },
  {
   "cell_type": "markdown",
   "metadata": {},
   "source": [
    "用整数位置选择："
   ]
  },
  {
   "cell_type": "code",
   "execution_count": 12,
   "metadata": {},
   "outputs": [
    {
     "name": "stdout",
     "output_type": "stream",
     "text": [
      "                   A         B         C         D\n",
      "2013-01-01 -0.107984 -0.149686  0.180313 -0.082615\n",
      "2013-01-02  0.049783 -2.407399  0.556737 -0.552114\n",
      "2013-01-03 -1.713821 -0.573406  2.653924  0.147176\n",
      "2013-01-04  0.568678  0.821943 -0.409147 -1.403023\n",
      "2013-01-05  0.743408  1.172106  0.347119  0.646678\n",
      "2013-01-06 -1.340088  1.042089  1.953163  0.582042\n",
      "A    0.568678\n",
      "B    0.821943\n",
      "C   -0.409147\n",
      "D   -1.403023\n",
      "Name: 2013-01-04 00:00:00, dtype: float64\n"
     ]
    }
   ],
   "source": [
    "dates = pd.date_range('20130101', periods=6)\n",
    "df = pd.DataFrame(np.random.randn(6, 4), index=dates, columns=list('ABCD'))\n",
    "df2 = df.iloc[3]\n",
    "print(df)\n",
    "print(df2)"
   ]
  },
  {
   "cell_type": "markdown",
   "metadata": {},
   "source": [
    "类似 NumPy / Python，用整数切片："
   ]
  },
  {
   "cell_type": "code",
   "execution_count": 71,
   "metadata": {},
   "outputs": [
    {
     "name": "stdout",
     "output_type": "stream",
     "text": [
      "                   A         B\n",
      "2013-01-04  0.508481 -0.332345\n",
      "2013-01-05 -0.403236  0.543780\n"
     ]
    }
   ],
   "source": [
    "dates = pd.date_range('20130101', periods=6)\n",
    "df = pd.DataFrame(np.random.randn(6, 4), index=dates, columns=list('ABCD'))\n",
    "df2 = df.iloc[3:5, 0:2]\n",
    "print(df2)"
   ]
  },
  {
   "cell_type": "markdown",
   "metadata": {},
   "source": [
    "类似 NumPy / Python，用整数列表按位置切片："
   ]
  },
  {
   "cell_type": "code",
   "execution_count": 72,
   "metadata": {},
   "outputs": [
    {
     "name": "stdout",
     "output_type": "stream",
     "text": [
      "                   A         C\n",
      "2013-01-02  1.146820 -0.410189\n",
      "2013-01-03  0.016278 -1.279120\n",
      "2013-01-05 -2.562964 -1.311953\n"
     ]
    }
   ],
   "source": [
    "dates = pd.date_range('20130101', periods=6)\n",
    "df = pd.DataFrame(np.random.randn(6, 4), index=dates, columns=list('ABCD'))\n",
    "df2 = df.iloc[[1, 2, 4], [0, 2]]\n",
    "print(df2)"
   ]
  },
  {
   "cell_type": "markdown",
   "metadata": {},
   "source": [
    "显式整行切片："
   ]
  },
  {
   "cell_type": "code",
   "execution_count": 73,
   "metadata": {},
   "outputs": [
    {
     "name": "stdout",
     "output_type": "stream",
     "text": [
      "                   A        B         C         D\n",
      "2013-01-02 -1.287683  3.24312 -1.240704  1.906398\n",
      "2013-01-03 -1.097102  1.04735  1.599690 -0.528318\n"
     ]
    }
   ],
   "source": [
    "dates = pd.date_range('20130101', periods=6)\n",
    "df = pd.DataFrame(np.random.randn(6, 4), index=dates, columns=list('ABCD'))\n",
    "df2 = df.iloc[1:3, :]\n",
    "print(df2)"
   ]
  },
  {
   "cell_type": "markdown",
   "metadata": {},
   "source": [
    "显式整列切片："
   ]
  },
  {
   "cell_type": "code",
   "execution_count": 74,
   "metadata": {},
   "outputs": [
    {
     "name": "stdout",
     "output_type": "stream",
     "text": [
      "                   B         C\n",
      "2013-01-01  0.682682  0.462113\n",
      "2013-01-02 -0.009078 -0.248020\n",
      "2013-01-03 -1.391195  1.373124\n",
      "2013-01-04 -0.907918 -0.506955\n",
      "2013-01-05  0.431752  1.653101\n",
      "2013-01-06 -0.023634 -0.696959\n"
     ]
    }
   ],
   "source": [
    "dates = pd.date_range('20130101', periods=6)\n",
    "df = pd.DataFrame(np.random.randn(6, 4), index=dates, columns=list('ABCD'))\n",
    "df2 = df.iloc[:, 1:3]\n",
    "print(df2)"
   ]
  },
  {
   "cell_type": "markdown",
   "metadata": {},
   "source": [
    "显式提取值："
   ]
  },
  {
   "cell_type": "code",
   "execution_count": 76,
   "metadata": {},
   "outputs": [
    {
     "name": "stdout",
     "output_type": "stream",
     "text": [
      "-0.13269127721148\n",
      "-0.13269127721148\n"
     ]
    }
   ],
   "source": [
    "dates = pd.date_range('20130101', periods=6)\n",
    "df = pd.DataFrame(np.random.randn(6, 4), index=dates, columns=list('ABCD'))\n",
    "df2 = df.iloc[1, 1]\n",
    "# 快速访问标量，与上述方法等效：\n",
    "df3 = df.iat[1, 1]\n",
    "print(df2)\n",
    "print(df3)"
   ]
  },
  {
   "cell_type": "markdown",
   "metadata": {},
   "source": [
    "## 布尔索引"
   ]
  },
  {
   "cell_type": "markdown",
   "metadata": {},
   "source": [
    "用单列的值选择数据："
   ]
  },
  {
   "cell_type": "code",
   "execution_count": 77,
   "metadata": {},
   "outputs": [
    {
     "name": "stdout",
     "output_type": "stream",
     "text": [
      "                   A         B         C         D\n",
      "2013-01-01  0.951775 -0.292995 -0.692740 -0.437805\n",
      "2013-01-04  0.747989  0.282069 -0.340695 -0.530456\n"
     ]
    }
   ],
   "source": [
    "dates = pd.date_range('20130101', periods=6)\n",
    "df = pd.DataFrame(np.random.randn(6, 4), index=dates, columns=list('ABCD'))\n",
    "df2 = df[df.A > 0]\n",
    "print(df2)"
   ]
  },
  {
   "cell_type": "code",
   "execution_count": 80,
   "metadata": {},
   "outputs": [
    {
     "name": "stdout",
     "output_type": "stream",
     "text": [
      "                   A        B         C         D\n",
      "2013-01-01       NaN      NaN  1.115742  0.291086\n",
      "2013-01-02  0.525828      NaN  0.705587       NaN\n",
      "2013-01-03  0.037575  2.30600       NaN       NaN\n",
      "2013-01-04  0.528000      NaN  0.066435  1.209076\n",
      "2013-01-05       NaN      NaN  0.330465       NaN\n",
      "2013-01-06       NaN  0.20398       NaN  0.310286\n"
     ]
    }
   ],
   "source": [
    "dates = pd.date_range('20130101', periods=6)\n",
    "df = pd.DataFrame(np.random.randn(6, 4), index=dates, columns=list('ABCD'))\n",
    "df2 = df[df> 0]\n",
    "print(df2)"
   ]
  },
  {
   "cell_type": "markdown",
   "metadata": {},
   "source": [
    "用 isin() 筛选："
   ]
  },
  {
   "cell_type": "code",
   "execution_count": 81,
   "metadata": {},
   "outputs": [
    {
     "name": "stdout",
     "output_type": "stream",
     "text": [
      "                   A         B         C         D      E\n",
      "2013-01-01  0.525352 -1.438305  0.921197  0.740837    one\n",
      "2013-01-02 -0.017533 -0.712584 -0.430119 -1.859848    one\n",
      "2013-01-03 -0.109801  1.448841 -0.861400  0.763788    two\n",
      "2013-01-04 -0.502081  0.142156  1.554487 -0.458593  three\n",
      "2013-01-05 -0.284375 -1.140886  0.724695  0.773047   four\n",
      "2013-01-06  0.165440  0.982993 -2.956236  0.215586  three\n"
     ]
    }
   ],
   "source": [
    "dates = pd.date_range('20130101', periods=6)\n",
    "df = pd.DataFrame(np.random.randn(6, 4), index=dates, columns=list('ABCD'))\n",
    "df2 = df.copy()\n",
    "df2['E'] = ['one', 'one', 'two', 'three', 'four', 'three']\n",
    "print(df2)"
   ]
  },
  {
   "cell_type": "code",
   "execution_count": 82,
   "metadata": {},
   "outputs": [
    {
     "name": "stdout",
     "output_type": "stream",
     "text": [
      "                   A         B         C         D     E\n",
      "2013-01-03 -0.109801  1.448841 -0.861400  0.763788   two\n",
      "2013-01-05 -0.284375 -1.140886  0.724695  0.773047  four\n"
     ]
    }
   ],
   "source": [
    "df3 = df2[df2['E'].isin(['two', 'four'])]\n",
    "print(df3)"
   ]
  },
  {
   "cell_type": "markdown",
   "metadata": {},
   "source": [
    "## 赋值\n",
    "用索引自动对齐新增列的数据："
   ]
  },
  {
   "cell_type": "code",
   "execution_count": 15,
   "metadata": {},
   "outputs": [
    {
     "name": "stdout",
     "output_type": "stream",
     "text": [
      "2013-01-02    1\n",
      "2013-01-03    2\n",
      "2013-01-04    3\n",
      "2013-01-05    4\n",
      "2013-01-06    5\n",
      "2013-01-07    6\n",
      "Freq: D, dtype: int64\n",
      "                   A         B         C  D    F\n",
      "2013-01-01 -1.477081 -0.869327 -0.064885  5  NaN\n",
      "2013-01-02  1.363878  0.074561  0.845064  5  1.0\n",
      "2013-01-03 -0.342781 -1.110472  0.052391  5  2.0\n",
      "2013-01-04 -0.365749  0.827208  0.410617  5  3.0\n",
      "2013-01-05  0.772678 -0.175467  1.524044  5  4.0\n",
      "2013-01-06 -0.524863 -0.402278 -2.014076  5  5.0\n"
     ]
    }
   ],
   "source": [
    "dates = pd.date_range('20130101', periods=6)\n",
    "df = pd.DataFrame(np.random.randn(6, 4), index=dates, columns=list('ABCD'))\n",
    "s1 = pd.Series([1, 2, 3, 4, 5, 6], index=pd.date_range('20130102', periods=6))\n",
    "print(s1)\n",
    "df['F'] = s1\n",
    "#按 NumPy 数组赋值：\n",
    "df.loc[:, 'D'] = np.array([5] * len(df))\n",
    "print(df)"
   ]
  },
  {
   "cell_type": "markdown",
   "metadata": {},
   "source": [
    "用 where 条件赋值："
   ]
  },
  {
   "cell_type": "code",
   "execution_count": 93,
   "metadata": {},
   "outputs": [
    {
     "name": "stdout",
     "output_type": "stream",
     "text": [
      "                   A         B         C  D    F\n",
      "2013-01-01 -0.615879 -0.226821 -0.227379 -5  NaN\n",
      "2013-01-02 -0.484501 -0.702626 -0.730854 -5 -1.0\n",
      "2013-01-03 -1.279119 -0.759156 -0.127237 -5 -2.0\n",
      "2013-01-04 -1.257741 -0.145882 -0.483802 -5 -3.0\n",
      "2013-01-05 -1.089981 -0.073687 -2.339642 -5 -4.0\n",
      "2013-01-06 -1.365510 -0.213246 -0.235426 -5 -5.0\n"
     ]
    }
   ],
   "source": [
    "df2 = df.copy()\n",
    "df2[df2 > 0] = -df2\n",
    "print(df2)"
   ]
  },
  {
   "cell_type": "markdown",
   "metadata": {},
   "source": [
    "## 缺失值\n",
    "Pandas 主要用 np.nan 表示缺失数据。 计算时，默认不包含空值。详见缺失数据。\n",
    "\n",
    "重建索引（reindex）可以更改、添加、删除指定轴的索引，并返回数据副本，即不更改原数据。"
   ]
  },
  {
   "cell_type": "code",
   "execution_count": 98,
   "metadata": {},
   "outputs": [
    {
     "name": "stdout",
     "output_type": "stream",
     "text": [
      "                   A         B         C  D    F\n",
      "2013-01-01 -0.615879 -0.226821  0.227379  5  NaN\n",
      "2013-01-02  0.484501 -0.702626  0.730854  5  1.0\n",
      "2013-01-03 -1.279119 -0.759156 -0.127237  5  2.0\n",
      "2013-01-04 -1.257741  0.145882 -0.483802  5  3.0\n",
      "2013-01-05 -1.089981 -0.073687 -2.339642  5  4.0\n",
      "2013-01-06 -1.365510  0.213246 -0.235426  5  5.0\n",
      "                   A         B         C  D    F    E\n",
      "2013-01-01 -0.615879 -0.226821  0.227379  5  NaN  1.0\n",
      "2013-01-02  0.484501 -0.702626  0.730854  5  1.0  1.0\n",
      "2013-01-03 -1.279119 -0.759156 -0.127237  5  2.0  NaN\n",
      "2013-01-04 -1.257741  0.145882 -0.483802  5  3.0  NaN\n"
     ]
    }
   ],
   "source": [
    "print(df)\n",
    "dates = pd.date_range('20130101', periods=6)\n",
    "df1 = df.reindex(index=dates[0:4], columns=list(df.columns) + ['E'])\n",
    "df1.loc[dates[0]:dates[1], 'E'] = 1\n",
    "print(df1)"
   ]
  },
  {
   "cell_type": "markdown",
   "metadata": {},
   "source": [
    "删除所有含缺失值的行："
   ]
  },
  {
   "cell_type": "code",
   "execution_count": 100,
   "metadata": {},
   "outputs": [
    {
     "name": "stdout",
     "output_type": "stream",
     "text": [
      "                   A         B         C  D    F    E\n",
      "2013-01-01 -0.615879 -0.226821  0.227379  5  NaN  1.0\n",
      "2013-01-02  0.484501 -0.702626  0.730854  5  1.0  1.0\n",
      "2013-01-03 -1.279119 -0.759156 -0.127237  5  2.0  NaN\n",
      "2013-01-04 -1.257741  0.145882 -0.483802  5  3.0  NaN\n",
      "                   A         B         C  D    F    E\n",
      "2013-01-02  0.484501 -0.702626  0.730854  5  1.0  1.0\n"
     ]
    }
   ],
   "source": [
    "print(df1)\n",
    "df2 = df1.dropna(how='any')\n",
    "print(df2)"
   ]
  },
  {
   "cell_type": "markdown",
   "metadata": {},
   "source": [
    "填充缺失值："
   ]
  },
  {
   "cell_type": "code",
   "execution_count": 101,
   "metadata": {},
   "outputs": [
    {
     "name": "stdout",
     "output_type": "stream",
     "text": [
      "                   A         B         C  D    F    E\n",
      "2013-01-01 -0.615879 -0.226821  0.227379  5  NaN  1.0\n",
      "2013-01-02  0.484501 -0.702626  0.730854  5  1.0  1.0\n",
      "2013-01-03 -1.279119 -0.759156 -0.127237  5  2.0  NaN\n",
      "2013-01-04 -1.257741  0.145882 -0.483802  5  3.0  NaN\n",
      "                   A         B         C  D    F    E\n",
      "2013-01-01 -0.615879 -0.226821  0.227379  5  5.0  1.0\n",
      "2013-01-02  0.484501 -0.702626  0.730854  5  1.0  1.0\n",
      "2013-01-03 -1.279119 -0.759156 -0.127237  5  2.0  5.0\n",
      "2013-01-04 -1.257741  0.145882 -0.483802  5  3.0  5.0\n"
     ]
    }
   ],
   "source": [
    "print(df1)\n",
    "df2 = df1.fillna(value=5)\n",
    "print(df2)"
   ]
  },
  {
   "cell_type": "markdown",
   "metadata": {},
   "source": [
    "提取 nan 值的布尔掩码："
   ]
  },
  {
   "cell_type": "code",
   "execution_count": 102,
   "metadata": {},
   "outputs": [
    {
     "name": "stdout",
     "output_type": "stream",
     "text": [
      "                   A         B         C  D    F    E\n",
      "2013-01-01 -0.615879 -0.226821  0.227379  5  NaN  1.0\n",
      "2013-01-02  0.484501 -0.702626  0.730854  5  1.0  1.0\n",
      "2013-01-03 -1.279119 -0.759156 -0.127237  5  2.0  NaN\n",
      "2013-01-04 -1.257741  0.145882 -0.483802  5  3.0  NaN\n",
      "                A      B      C      D      F      E\n",
      "2013-01-01  False  False  False  False   True  False\n",
      "2013-01-02  False  False  False  False  False  False\n",
      "2013-01-03  False  False  False  False  False   True\n",
      "2013-01-04  False  False  False  False  False   True\n"
     ]
    }
   ],
   "source": [
    "print(df1)\n",
    "df2 = pd.isna(df1)\n",
    "print(df2)"
   ]
  },
  {
   "cell_type": "markdown",
   "metadata": {},
   "source": [
    "## 运算"
   ]
  },
  {
   "cell_type": "markdown",
   "metadata": {},
   "source": [
    "### 统计\n",
    "一般情况下，运算时排除缺失值。"
   ]
  },
  {
   "cell_type": "code",
   "execution_count": 104,
   "metadata": {},
   "outputs": [
    {
     "name": "stdout",
     "output_type": "stream",
     "text": [
      "                   A         B         C  D    F\n",
      "2013-01-01 -0.615879 -0.226821  0.227379  5  NaN\n",
      "2013-01-02  0.484501 -0.702626  0.730854  5  1.0\n",
      "2013-01-03 -1.279119 -0.759156 -0.127237  5  2.0\n",
      "2013-01-04 -1.257741  0.145882 -0.483802  5  3.0\n",
      "2013-01-05 -1.089981 -0.073687 -2.339642  5  4.0\n",
      "2013-01-06 -1.365510  0.213246 -0.235426  5  5.0\n",
      "A   -0.853955\n",
      "B   -0.233860\n",
      "C   -0.371312\n",
      "D    5.000000\n",
      "F    3.000000\n",
      "dtype: float64\n"
     ]
    }
   ],
   "source": [
    "print(df)\n",
    "df2 = df.mean()\n",
    "print(df2)"
   ]
  },
  {
   "cell_type": "markdown",
   "metadata": {},
   "source": [
    "在另一个轴(即，行)上执行同样的操作："
   ]
  },
  {
   "cell_type": "code",
   "execution_count": 17,
   "metadata": {},
   "outputs": [
    {
     "name": "stdout",
     "output_type": "stream",
     "text": [
      "                   A         B         C  D    F\n",
      "2013-01-01 -1.477081 -0.869327 -0.064885  5  NaN\n",
      "2013-01-02  1.363878  0.074561  0.845064  5  1.0\n",
      "2013-01-03 -0.342781 -1.110472  0.052391  5  2.0\n",
      "2013-01-04 -0.365749  0.827208  0.410617  5  3.0\n",
      "2013-01-05  0.772678 -0.175467  1.524044  5  4.0\n",
      "2013-01-06 -0.524863 -0.402278 -2.014076  5  5.0\n",
      "2013-01-01    0.647177\n",
      "2013-01-02    1.656701\n",
      "2013-01-03    1.119828\n",
      "2013-01-04    1.774415\n",
      "2013-01-05    2.224251\n",
      "2013-01-06    1.411756\n",
      "Freq: D, dtype: float64\n"
     ]
    }
   ],
   "source": [
    "print(df)\n",
    "df2 = df.mean(1)\n",
    "print(df2)"
   ]
  },
  {
   "cell_type": "markdown",
   "metadata": {},
   "source": [
    "不同维度对象运算时，要先对齐。 此外，Pandas 自动沿指定维度广播。"
   ]
  },
  {
   "cell_type": "code",
   "execution_count": 108,
   "metadata": {},
   "outputs": [
    {
     "name": "stdout",
     "output_type": "stream",
     "text": [
      "DatetimeIndex(['2013-01-01', '2013-01-02', '2013-01-03', '2013-01-04',\n",
      "               '2013-01-05', '2013-01-06'],\n",
      "              dtype='datetime64[ns]', freq='D')\n",
      "2013-01-01    NaN\n",
      "2013-01-02    NaN\n",
      "2013-01-03    1.0\n",
      "2013-01-04    3.0\n",
      "2013-01-05    5.0\n",
      "2013-01-06    NaN\n",
      "Freq: D, dtype: float64\n"
     ]
    }
   ],
   "source": [
    "print(dates)\n",
    "s = pd.Series([1, 3, 5, np.nan, 6, 8], index=dates).shift(2)\n",
    "print(s)"
   ]
  },
  {
   "cell_type": "markdown",
   "metadata": {},
   "source": [
    "### Apply 函数\n",
    "Apply 函数处理数据："
   ]
  },
  {
   "cell_type": "code",
   "execution_count": 110,
   "metadata": {},
   "outputs": [
    {
     "name": "stdout",
     "output_type": "stream",
     "text": [
      "                   A         B         C  D    F\n",
      "2013-01-01 -0.615879 -0.226821  0.227379  5  NaN\n",
      "2013-01-02  0.484501 -0.702626  0.730854  5  1.0\n",
      "2013-01-03 -1.279119 -0.759156 -0.127237  5  2.0\n",
      "2013-01-04 -1.257741  0.145882 -0.483802  5  3.0\n",
      "2013-01-05 -1.089981 -0.073687 -2.339642  5  4.0\n",
      "2013-01-06 -1.365510  0.213246 -0.235426  5  5.0\n",
      "                   A         B         C   D     F\n",
      "2013-01-01 -0.615879 -0.226821  0.227379   5   NaN\n",
      "2013-01-02 -0.131378 -0.929447  0.958233  10   1.0\n",
      "2013-01-03 -1.410497 -1.688603  0.830996  15   3.0\n",
      "2013-01-04 -2.668238 -1.542722  0.347194  20   6.0\n",
      "2013-01-05 -3.758219 -1.616408 -1.992448  25  10.0\n",
      "2013-01-06 -5.123729 -1.403163 -2.227874  30  15.0\n"
     ]
    }
   ],
   "source": [
    "print(df)\n",
    "df2 = df.apply(np.cumsum)  #按行累加\n",
    "print(df2)"
   ]
  },
  {
   "cell_type": "code",
   "execution_count": 111,
   "metadata": {},
   "outputs": [
    {
     "name": "stdout",
     "output_type": "stream",
     "text": [
      "                   A         B         C  D    F\n",
      "2013-01-01 -0.615879 -0.226821  0.227379  5  NaN\n",
      "2013-01-02  0.484501 -0.702626  0.730854  5  1.0\n",
      "2013-01-03 -1.279119 -0.759156 -0.127237  5  2.0\n",
      "2013-01-04 -1.257741  0.145882 -0.483802  5  3.0\n",
      "2013-01-05 -1.089981 -0.073687 -2.339642  5  4.0\n",
      "2013-01-06 -1.365510  0.213246 -0.235426  5  5.0\n",
      "A    1.850011\n",
      "B    0.972402\n",
      "C    3.070495\n",
      "D    0.000000\n",
      "F    4.000000\n",
      "dtype: float64\n"
     ]
    }
   ],
   "source": [
    "print(df)\n",
    "df2 = df.apply(lambda x: x.max() - x.min())\n",
    "print(df2)"
   ]
  },
  {
   "cell_type": "code",
   "execution_count": 114,
   "metadata": {},
   "outputs": [
    {
     "name": "stdout",
     "output_type": "stream",
     "text": [
      "0    2\n",
      "1    1\n",
      "2    3\n",
      "3    5\n",
      "4    1\n",
      "5    2\n",
      "6    5\n",
      "7    6\n",
      "8    0\n",
      "9    1\n",
      "dtype: int64\n",
      "1    3\n",
      "5    2\n",
      "2    2\n",
      "6    1\n",
      "3    1\n",
      "0    1\n",
      "dtype: int64\n"
     ]
    }
   ],
   "source": [
    "s = pd.Series(np.random.randint(0, 7, size=10))\n",
    "print(s)\n",
    "print(s.value_counts())"
   ]
  },
  {
   "cell_type": "markdown",
   "metadata": {},
   "source": [
    "### 字符串方法\n",
    "Series 的 str 属性包含一组字符串处理功能，如下列代码所示。"
   ]
  },
  {
   "cell_type": "code",
   "execution_count": 115,
   "metadata": {},
   "outputs": [
    {
     "name": "stdout",
     "output_type": "stream",
     "text": [
      "0       A\n",
      "1       B\n",
      "2       C\n",
      "3    Aaba\n",
      "4    Baca\n",
      "5     NaN\n",
      "6    CABA\n",
      "7     dog\n",
      "8     cat\n",
      "dtype: object\n",
      "0       a\n",
      "1       b\n",
      "2       c\n",
      "3    aaba\n",
      "4    baca\n",
      "5     NaN\n",
      "6    caba\n",
      "7     dog\n",
      "8     cat\n",
      "dtype: object\n"
     ]
    }
   ],
   "source": [
    "s = pd.Series(['A', 'B', 'C', 'Aaba', 'Baca', np.nan, 'CABA', 'dog', 'cat'])\n",
    "print(s)\n",
    "print(s.str.lower())"
   ]
  },
  {
   "cell_type": "markdown",
   "metadata": {},
   "source": [
    "## 合并（Merge）"
   ]
  },
  {
   "cell_type": "markdown",
   "metadata": {},
   "source": [
    "### 结合（Concat）\n",
    "Pandas 提供了多种将 Series、DataFrame 对象组合在一起的功能，用索引与关联代数功能的多种设置逻辑可执行连接（join）与合并（merge）操作。"
   ]
  },
  {
   "cell_type": "code",
   "execution_count": 118,
   "metadata": {},
   "outputs": [
    {
     "name": "stdout",
     "output_type": "stream",
     "text": [
      "          0         1         2         3\n",
      "0  1.719113  0.831383  1.538818 -1.999142\n",
      "1  0.593740 -0.057504 -0.461567 -1.048546\n",
      "2  0.380137  0.548541 -2.590405 -1.164587\n",
      "3 -2.744919 -2.532682 -0.970706 -0.562539\n",
      "4  0.952377 -0.886799 -0.734037  0.123196\n",
      "5 -0.043676 -0.289858  0.432466 -1.093002\n",
      "6  1.421915  0.644543  0.215564  0.027258\n",
      "7 -1.734566  1.234567  2.341220 -1.170683\n",
      "8  0.419772  1.229119 -1.481118 -0.572200\n",
      "9  1.282092 -0.527682  1.252824  0.979524\n"
     ]
    }
   ],
   "source": [
    "df = pd.DataFrame(np.random.randn(10, 4))\n",
    "print(df)"
   ]
  },
  {
   "cell_type": "code",
   "execution_count": 120,
   "metadata": {},
   "outputs": [
    {
     "data": {
      "text/plain": [
       "[          0         1         2         3\n",
       " 0  1.719113  0.831383  1.538818 -1.999142\n",
       " 1  0.593740 -0.057504 -0.461567 -1.048546\n",
       " 2  0.380137  0.548541 -2.590405 -1.164587,\n",
       "           0         1         2         3\n",
       " 3 -2.744919 -2.532682 -0.970706 -0.562539\n",
       " 4  0.952377 -0.886799 -0.734037  0.123196\n",
       " 5 -0.043676 -0.289858  0.432466 -1.093002\n",
       " 6  1.421915  0.644543  0.215564  0.027258,\n",
       "           0         1         2         3\n",
       " 7 -1.734566  1.234567  2.341220 -1.170683\n",
       " 8  0.419772  1.229119 -1.481118 -0.572200\n",
       " 9  1.282092 -0.527682  1.252824  0.979524]"
      ]
     },
     "execution_count": 120,
     "metadata": {},
     "output_type": "execute_result"
    }
   ],
   "source": [
    "# 分解为多组\n",
    "pieces = [df[:3], df[3:7], df[7:]]\n",
    "pieces"
   ]
  },
  {
   "cell_type": "code",
   "execution_count": 121,
   "metadata": {},
   "outputs": [
    {
     "name": "stdout",
     "output_type": "stream",
     "text": [
      "          0         1         2         3\n",
      "0  1.719113  0.831383  1.538818 -1.999142\n",
      "1  0.593740 -0.057504 -0.461567 -1.048546\n",
      "2  0.380137  0.548541 -2.590405 -1.164587\n",
      "3 -2.744919 -2.532682 -0.970706 -0.562539\n",
      "4  0.952377 -0.886799 -0.734037  0.123196\n",
      "5 -0.043676 -0.289858  0.432466 -1.093002\n",
      "6  1.421915  0.644543  0.215564  0.027258\n",
      "7 -1.734566  1.234567  2.341220 -1.170683\n",
      "8  0.419772  1.229119 -1.481118 -0.572200\n",
      "9  1.282092 -0.527682  1.252824  0.979524\n"
     ]
    }
   ],
   "source": [
    "df2 = pd.concat(pieces)\n",
    "print(df2)"
   ]
  },
  {
   "cell_type": "markdown",
   "metadata": {},
   "source": [
    "### 连接（join）"
   ]
  },
  {
   "cell_type": "code",
   "execution_count": 122,
   "metadata": {},
   "outputs": [
    {
     "name": "stdout",
     "output_type": "stream",
     "text": [
      "   key  lval\n",
      "0  foo     1\n",
      "1  foo     2\n",
      "   key  rval\n",
      "0  foo     4\n",
      "1  foo     5\n"
     ]
    }
   ],
   "source": [
    "left = pd.DataFrame({'key': ['foo', 'foo'], 'lval': [1, 2]})\n",
    "right = pd.DataFrame({'key': ['foo', 'foo'], 'rval': [4, 5]})\n",
    "print(left)\n",
    "print(right)"
   ]
  },
  {
   "cell_type": "code",
   "execution_count": 124,
   "metadata": {},
   "outputs": [
    {
     "name": "stdout",
     "output_type": "stream",
     "text": [
      "   key  lval  rval\n",
      "0  foo     1     4\n",
      "1  foo     1     5\n",
      "2  foo     2     4\n",
      "3  foo     2     5\n"
     ]
    }
   ],
   "source": [
    "df2 = pd.merge(left, right, on='key')\n",
    "print(df2)"
   ]
  },
  {
   "cell_type": "markdown",
   "metadata": {},
   "source": [
    "这里还有一个例子："
   ]
  },
  {
   "cell_type": "code",
   "execution_count": 125,
   "metadata": {},
   "outputs": [
    {
     "name": "stdout",
     "output_type": "stream",
     "text": [
      "   key  lval\n",
      "0  foo     1\n",
      "1  bar     2\n",
      "   key  rval\n",
      "0  foo     4\n",
      "1  bar     5\n"
     ]
    }
   ],
   "source": [
    "left = pd.DataFrame({'key': ['foo', 'bar'], 'lval': [1, 2]})\n",
    "right = pd.DataFrame({'key': ['foo', 'bar'], 'rval': [4, 5]})\n",
    "print(left)\n",
    "print(right)"
   ]
  },
  {
   "cell_type": "code",
   "execution_count": 126,
   "metadata": {},
   "outputs": [
    {
     "name": "stdout",
     "output_type": "stream",
     "text": [
      "   key  lval  rval\n",
      "0  foo     1     4\n",
      "1  bar     2     5\n"
     ]
    }
   ],
   "source": [
    "df2 = pd.merge(left, right, on='key')\n",
    "print(df2)"
   ]
  },
  {
   "cell_type": "markdown",
   "metadata": {},
   "source": [
    "### 追加（Append）"
   ]
  },
  {
   "cell_type": "code",
   "execution_count": 127,
   "metadata": {},
   "outputs": [
    {
     "name": "stdout",
     "output_type": "stream",
     "text": [
      "          A         B         C         D\n",
      "0  0.758133  1.590516  0.914071  0.772167\n",
      "1 -0.986839  1.955776  0.555850  0.403149\n",
      "2 -0.020167 -1.443294  0.226568 -0.891848\n",
      "3 -0.922829 -1.732566 -0.375818 -0.751083\n",
      "4 -0.045678 -0.855114  1.554086 -0.943969\n",
      "5  0.576713  1.791557  1.763334 -0.073638\n",
      "6  0.583431  1.345461  0.761219  0.181475\n",
      "7  0.181882 -1.421653  0.552111  1.384075\n"
     ]
    }
   ],
   "source": [
    "df = pd.DataFrame(np.random.randn(8, 4), columns=['A', 'B', 'C', 'D'])\n",
    "print(df)"
   ]
  },
  {
   "cell_type": "code",
   "execution_count": 128,
   "metadata": {},
   "outputs": [
    {
     "name": "stdout",
     "output_type": "stream",
     "text": [
      "          A         B         C         D\n",
      "0  0.758133  1.590516  0.914071  0.772167\n",
      "1 -0.986839  1.955776  0.555850  0.403149\n",
      "2 -0.020167 -1.443294  0.226568 -0.891848\n",
      "3 -0.922829 -1.732566 -0.375818 -0.751083\n",
      "4 -0.045678 -0.855114  1.554086 -0.943969\n",
      "5  0.576713  1.791557  1.763334 -0.073638\n",
      "6  0.583431  1.345461  0.761219  0.181475\n",
      "7  0.181882 -1.421653  0.552111  1.384075\n",
      "8 -0.922829 -1.732566 -0.375818 -0.751083\n"
     ]
    }
   ],
   "source": [
    "s = df.iloc[3]\n",
    "df2 = df.append(s, ignore_index=True)\n",
    "print(df2)"
   ]
  },
  {
   "cell_type": "markdown",
   "metadata": {},
   "source": [
    "## 分组（Grouping）\n"
   ]
  },
  {
   "cell_type": "markdown",
   "metadata": {},
   "source": [
    "“group by” 指的是涵盖下列一项或多项步骤的处理流程：\n",
    "\n",
    "分割：按条件把数据分割成多组；\n",
    "\n",
    "应用：为每组单独应用函数；\n",
    "\n",
    "组合：将处理结果组合成一个数据结构。"
   ]
  },
  {
   "cell_type": "code",
   "execution_count": 129,
   "metadata": {},
   "outputs": [
    {
     "name": "stdout",
     "output_type": "stream",
     "text": [
      "     A      B         C         D\n",
      "0  foo    one  0.134503  0.230366\n",
      "1  bar    one -0.288466 -1.681533\n",
      "2  foo    two -1.504377 -0.409772\n",
      "3  bar  three  0.719922 -1.690178\n",
      "4  foo    two -0.124174  1.194064\n",
      "5  bar    two  0.427585 -1.162198\n",
      "6  foo    one  0.309526 -0.256350\n",
      "7  foo  three  2.003508 -0.575879\n"
     ]
    }
   ],
   "source": [
    "df = pd.DataFrame({'A': ['foo', 'bar', 'foo', 'bar',\n",
    "                                  'foo', 'bar', 'foo', 'foo'],\n",
    "                            'B': ['one', 'one', 'two', 'three',\n",
    "                                 'two', 'two', 'one', 'three'],\n",
    "                            'C': np.random.randn(8),\n",
    "                            'D': np.random.randn(8)})\n",
    "print(df)"
   ]
  },
  {
   "cell_type": "markdown",
   "metadata": {},
   "source": [
    "先分组，再用 sum()函数计算每组的汇总数据："
   ]
  },
  {
   "cell_type": "code",
   "execution_count": 130,
   "metadata": {},
   "outputs": [
    {
     "name": "stdout",
     "output_type": "stream",
     "text": [
      "            C         D\n",
      "A                      \n",
      "bar  0.859041 -4.533909\n",
      "foo  0.818987  0.182429\n"
     ]
    }
   ],
   "source": [
    "df2 = df.groupby('A').sum()\n",
    "print(df2)"
   ]
  },
  {
   "cell_type": "markdown",
   "metadata": {},
   "source": [
    "多列分组后，生成多层索引，也可以应用 sum 函数："
   ]
  },
  {
   "cell_type": "code",
   "execution_count": 132,
   "metadata": {},
   "outputs": [
    {
     "data": {
      "text/html": [
       "<div>\n",
       "<style scoped>\n",
       "    .dataframe tbody tr th:only-of-type {\n",
       "        vertical-align: middle;\n",
       "    }\n",
       "\n",
       "    .dataframe tbody tr th {\n",
       "        vertical-align: top;\n",
       "    }\n",
       "\n",
       "    .dataframe thead th {\n",
       "        text-align: right;\n",
       "    }\n",
       "</style>\n",
       "<table border=\"1\" class=\"dataframe\">\n",
       "  <thead>\n",
       "    <tr style=\"text-align: right;\">\n",
       "      <th></th>\n",
       "      <th></th>\n",
       "      <th>C</th>\n",
       "      <th>D</th>\n",
       "    </tr>\n",
       "    <tr>\n",
       "      <th>A</th>\n",
       "      <th>B</th>\n",
       "      <th></th>\n",
       "      <th></th>\n",
       "    </tr>\n",
       "  </thead>\n",
       "  <tbody>\n",
       "    <tr>\n",
       "      <th rowspan=\"3\" valign=\"top\">bar</th>\n",
       "      <th>one</th>\n",
       "      <td>-0.288466</td>\n",
       "      <td>-1.681533</td>\n",
       "    </tr>\n",
       "    <tr>\n",
       "      <th>three</th>\n",
       "      <td>0.719922</td>\n",
       "      <td>-1.690178</td>\n",
       "    </tr>\n",
       "    <tr>\n",
       "      <th>two</th>\n",
       "      <td>0.427585</td>\n",
       "      <td>-1.162198</td>\n",
       "    </tr>\n",
       "    <tr>\n",
       "      <th rowspan=\"3\" valign=\"top\">foo</th>\n",
       "      <th>one</th>\n",
       "      <td>0.444030</td>\n",
       "      <td>-0.025984</td>\n",
       "    </tr>\n",
       "    <tr>\n",
       "      <th>three</th>\n",
       "      <td>2.003508</td>\n",
       "      <td>-0.575879</td>\n",
       "    </tr>\n",
       "    <tr>\n",
       "      <th>two</th>\n",
       "      <td>-1.628551</td>\n",
       "      <td>0.784292</td>\n",
       "    </tr>\n",
       "  </tbody>\n",
       "</table>\n",
       "</div>"
      ],
      "text/plain": [
       "                  C         D\n",
       "A   B                        \n",
       "bar one   -0.288466 -1.681533\n",
       "    three  0.719922 -1.690178\n",
       "    two    0.427585 -1.162198\n",
       "foo one    0.444030 -0.025984\n",
       "    three  2.003508 -0.575879\n",
       "    two   -1.628551  0.784292"
      ]
     },
     "execution_count": 132,
     "metadata": {},
     "output_type": "execute_result"
    }
   ],
   "source": [
    "df2 = df.groupby(['A', 'B']).sum()\n",
    "df2"
   ]
  },
  {
   "cell_type": "markdown",
   "metadata": {},
   "source": [
    "## 数据透视表（Pivot Tables）"
   ]
  },
  {
   "cell_type": "code",
   "execution_count": 152,
   "metadata": {},
   "outputs": [
    {
     "name": "stdout",
     "output_type": "stream",
     "text": [
      "        A  B    C         D         E\n",
      "0     one  A  foo -0.085787 -1.246243\n",
      "1     one  B  foo  0.871475  0.136996\n",
      "2     two  C  foo  0.112141 -0.231030\n",
      "3   three  A  bar -0.784551 -1.307385\n",
      "4     one  B  bar  1.318263  0.047597\n",
      "5     one  C  bar -1.454094 -0.840767\n",
      "6     two  A  foo -0.084179 -0.293640\n",
      "7   three  B  foo  0.093087  0.220427\n",
      "8     one  C  foo  0.395169  1.735935\n",
      "9     one  A  bar -0.868360  0.837668\n",
      "10    two  B  bar  1.108166 -1.244821\n",
      "11  three  C  bar -1.582920 -2.246671\n"
     ]
    }
   ],
   "source": [
    "df = pd.DataFrame({'A': ['one', 'one', 'two', 'three'] * 3,\n",
    "                            'B': ['A', 'B', 'C'] * 4,\n",
    "                            'C': ['foo', 'foo', 'foo', 'bar', 'bar', 'bar'] * 2,\n",
    "                            'D': np.random.randn(12),\n",
    "                            'E': np.random.randn(12)})\n",
    "print(df)"
   ]
  },
  {
   "cell_type": "code",
   "execution_count": 153,
   "metadata": {},
   "outputs": [
    {
     "data": {
      "text/html": [
       "<div>\n",
       "<style scoped>\n",
       "    .dataframe tbody tr th:only-of-type {\n",
       "        vertical-align: middle;\n",
       "    }\n",
       "\n",
       "    .dataframe tbody tr th {\n",
       "        vertical-align: top;\n",
       "    }\n",
       "\n",
       "    .dataframe thead th {\n",
       "        text-align: right;\n",
       "    }\n",
       "</style>\n",
       "<table border=\"1\" class=\"dataframe\">\n",
       "  <thead>\n",
       "    <tr style=\"text-align: right;\">\n",
       "      <th></th>\n",
       "      <th>C</th>\n",
       "      <th>bar</th>\n",
       "      <th>foo</th>\n",
       "    </tr>\n",
       "    <tr>\n",
       "      <th>A</th>\n",
       "      <th>B</th>\n",
       "      <th></th>\n",
       "      <th></th>\n",
       "    </tr>\n",
       "  </thead>\n",
       "  <tbody>\n",
       "    <tr>\n",
       "      <th rowspan=\"3\" valign=\"top\">one</th>\n",
       "      <th>A</th>\n",
       "      <td>-0.868360</td>\n",
       "      <td>-0.085787</td>\n",
       "    </tr>\n",
       "    <tr>\n",
       "      <th>B</th>\n",
       "      <td>1.318263</td>\n",
       "      <td>0.871475</td>\n",
       "    </tr>\n",
       "    <tr>\n",
       "      <th>C</th>\n",
       "      <td>-1.454094</td>\n",
       "      <td>0.395169</td>\n",
       "    </tr>\n",
       "    <tr>\n",
       "      <th rowspan=\"3\" valign=\"top\">three</th>\n",
       "      <th>A</th>\n",
       "      <td>-0.784551</td>\n",
       "      <td>NaN</td>\n",
       "    </tr>\n",
       "    <tr>\n",
       "      <th>B</th>\n",
       "      <td>NaN</td>\n",
       "      <td>0.093087</td>\n",
       "    </tr>\n",
       "    <tr>\n",
       "      <th>C</th>\n",
       "      <td>-1.582920</td>\n",
       "      <td>NaN</td>\n",
       "    </tr>\n",
       "    <tr>\n",
       "      <th rowspan=\"3\" valign=\"top\">two</th>\n",
       "      <th>A</th>\n",
       "      <td>NaN</td>\n",
       "      <td>-0.084179</td>\n",
       "    </tr>\n",
       "    <tr>\n",
       "      <th>B</th>\n",
       "      <td>1.108166</td>\n",
       "      <td>NaN</td>\n",
       "    </tr>\n",
       "    <tr>\n",
       "      <th>C</th>\n",
       "      <td>NaN</td>\n",
       "      <td>0.112141</td>\n",
       "    </tr>\n",
       "  </tbody>\n",
       "</table>\n",
       "</div>"
      ],
      "text/plain": [
       "C             bar       foo\n",
       "A     B                    \n",
       "one   A -0.868360 -0.085787\n",
       "      B  1.318263  0.871475\n",
       "      C -1.454094  0.395169\n",
       "three A -0.784551       NaN\n",
       "      B       NaN  0.093087\n",
       "      C -1.582920       NaN\n",
       "two   A       NaN -0.084179\n",
       "      B  1.108166       NaN\n",
       "      C       NaN  0.112141"
      ]
     },
     "execution_count": 153,
     "metadata": {},
     "output_type": "execute_result"
    }
   ],
   "source": [
    "df2 = pd.pivot_table(df, values='D', index=['A', 'B'], columns=['C'])\n",
    "df2"
   ]
  },
  {
   "cell_type": "markdown",
   "metadata": {},
   "source": [
    "## 时间序列(TimeSeries)"
   ]
  },
  {
   "cell_type": "markdown",
   "metadata": {},
   "source": [
    "Pandas 为频率转换时重采样提供了虽然简单易用，但强大高效的功能，如，将秒级的数据转换为 5 分钟为频率的数据。这种操作常见于金融应用，但又不仅限于此。"
   ]
  },
  {
   "cell_type": "code",
   "execution_count": 160,
   "metadata": {},
   "outputs": [
    {
     "name": "stdout",
     "output_type": "stream",
     "text": [
      "2012-01-01 00:00:00    120\n",
      "2012-01-01 00:00:01    340\n",
      "2012-01-01 00:00:02    297\n",
      "2012-01-01 00:00:03    378\n",
      "2012-01-01 00:00:04    468\n",
      "                      ... \n",
      "2012-01-01 00:01:35     62\n",
      "2012-01-01 00:01:36     44\n",
      "2012-01-01 00:01:37    183\n",
      "2012-01-01 00:01:38     43\n",
      "2012-01-01 00:01:39    366\n",
      "Freq: S, Length: 100, dtype: int64\n",
      "--------------------\n",
      "2012-01-01    25048\n",
      "Freq: 5T, dtype: int64\n"
     ]
    }
   ],
   "source": [
    "rng = pd.date_range('1/1/2012', periods=100, freq='S')\n",
    "ts = pd.Series(np.random.randint(0, 500, len(rng)), index=rng) \n",
    "print(ts)\n",
    "print('--------------------')\n",
    "ts2 = ts.resample('5Min').sum()\n",
    "print(ts2)"
   ]
  },
  {
   "cell_type": "markdown",
   "metadata": {},
   "source": [
    "时区表示："
   ]
  },
  {
   "cell_type": "code",
   "execution_count": 163,
   "metadata": {},
   "outputs": [
    {
     "name": "stdout",
     "output_type": "stream",
     "text": [
      "2012-03-06   -1.238681\n",
      "2012-03-07   -0.297421\n",
      "2012-03-08   -0.021985\n",
      "2012-03-09   -1.195290\n",
      "2012-03-10   -2.138878\n",
      "Freq: D, dtype: float64\n"
     ]
    }
   ],
   "source": [
    "rng = pd.date_range('3/6/2012 00:00', periods=5, freq='D')\n",
    "ts = pd.Series(np.random.randn(len(rng)), index = rng)\n",
    "print(ts)"
   ]
  },
  {
   "cell_type": "code",
   "execution_count": 164,
   "metadata": {},
   "outputs": [
    {
     "name": "stdout",
     "output_type": "stream",
     "text": [
      "2012-03-06 00:00:00+00:00   -1.238681\n",
      "2012-03-07 00:00:00+00:00   -0.297421\n",
      "2012-03-08 00:00:00+00:00   -0.021985\n",
      "2012-03-09 00:00:00+00:00   -1.195290\n",
      "2012-03-10 00:00:00+00:00   -2.138878\n",
      "Freq: D, dtype: float64\n"
     ]
    }
   ],
   "source": [
    "ts_utc = ts.tz_localize('UTC')\n",
    "print(ts_utc)"
   ]
  },
  {
   "cell_type": "markdown",
   "metadata": {},
   "source": [
    "转换成其它时区："
   ]
  },
  {
   "cell_type": "code",
   "execution_count": 165,
   "metadata": {},
   "outputs": [
    {
     "name": "stdout",
     "output_type": "stream",
     "text": [
      "2012-03-05 19:00:00-05:00   -1.238681\n",
      "2012-03-06 19:00:00-05:00   -0.297421\n",
      "2012-03-07 19:00:00-05:00   -0.021985\n",
      "2012-03-08 19:00:00-05:00   -1.195290\n",
      "2012-03-09 19:00:00-05:00   -2.138878\n",
      "Freq: D, dtype: float64\n"
     ]
    }
   ],
   "source": [
    "ts_us = ts_utc.tz_convert('US/Eastern')\n",
    "print(ts_us)"
   ]
  },
  {
   "cell_type": "markdown",
   "metadata": {},
   "source": [
    "转换时间段："
   ]
  },
  {
   "cell_type": "code",
   "execution_count": 166,
   "metadata": {},
   "outputs": [
    {
     "name": "stdout",
     "output_type": "stream",
     "text": [
      "2012-01-31   -0.448045\n",
      "2012-02-29    1.474052\n",
      "2012-03-31   -1.194081\n",
      "2012-04-30    1.154776\n",
      "2012-05-31    1.146886\n",
      "Freq: M, dtype: float64\n"
     ]
    }
   ],
   "source": [
    "rng = pd.date_range('1/1/2012', periods=5, freq='M')\n",
    "ts = pd.Series(np.random.randn(len(rng)), index=rng)\n",
    "print(ts)"
   ]
  },
  {
   "cell_type": "code",
   "execution_count": 167,
   "metadata": {},
   "outputs": [
    {
     "name": "stdout",
     "output_type": "stream",
     "text": [
      "2012-01   -0.448045\n",
      "2012-02    1.474052\n",
      "2012-03   -1.194081\n",
      "2012-04    1.154776\n",
      "2012-05    1.146886\n",
      "Freq: M, dtype: float64\n"
     ]
    }
   ],
   "source": [
    "ps = ts.to_period()\n",
    "print(ps)"
   ]
  },
  {
   "cell_type": "markdown",
   "metadata": {},
   "source": [
    "## 可视化"
   ]
  },
  {
   "cell_type": "code",
   "execution_count": 170,
   "metadata": {},
   "outputs": [
    {
     "name": "stdout",
     "output_type": "stream",
     "text": [
      "2000-01-01    0.973892\n",
      "2000-01-02    0.766687\n",
      "2000-01-03   -0.814694\n",
      "2000-01-04   -0.394845\n",
      "2000-01-05   -1.792177\n",
      "                ...   \n",
      "2002-09-22    0.642910\n",
      "2002-09-23   -0.570564\n",
      "2002-09-24   -1.554600\n",
      "2002-09-25    1.508521\n",
      "2002-09-26   -0.033704\n",
      "Freq: D, Length: 1000, dtype: float64\n",
      "2000-01-01     0.973892\n",
      "2000-01-02     1.740580\n",
      "2000-01-03     0.925886\n",
      "2000-01-04     0.531041\n",
      "2000-01-05    -1.261136\n",
      "                ...    \n",
      "2002-09-22   -56.511700\n",
      "2002-09-23   -57.082264\n",
      "2002-09-24   -58.636865\n",
      "2002-09-25   -57.128343\n",
      "2002-09-26   -57.162047\n",
      "Freq: D, Length: 1000, dtype: float64\n"
     ]
    },
    {
     "data": {
      "text/plain": [
       "<matplotlib.axes._subplots.AxesSubplot at 0x11b73ced0>"
      ]
     },
     "execution_count": 170,
     "metadata": {},
     "output_type": "execute_result"
    },
    {
     "data": {
      "image/png": "[encoded data removed]",
      "text/plain": [
       "<Figure size 432x288 with 1 Axes>"
      ]
     },
     "metadata": {
      "needs_background": "light"
     },
     "output_type": "display_data"
    }
   ],
   "source": [
    "ts = pd.Series(np.random.randn(1000), index=pd.date_range('1/1/2000', periods=1000))\n",
    "print(ts)\n",
    "ts = ts.cumsum()  #累加\n",
    "print(ts)\n",
    "ts.plot()"
   ]
  },
  {
   "cell_type": "markdown",
   "metadata": {},
   "source": [
    "DataFrame 的 plot() 方法可以快速绘制所有带标签的列："
   ]
  },
  {
   "cell_type": "code",
   "execution_count": 172,
   "metadata": {},
   "outputs": [
    {
     "data": {
      "text/plain": [
       "<matplotlib.axes._subplots.AxesSubplot at 0x11c393510>"
      ]
     },
     "execution_count": 172,
     "metadata": {},
     "output_type": "execute_result"
    },
    {
     "data": {
      "image/png": "[encoded data removed]",
      "text/plain": [
       "<Figure size 432x288 with 1 Axes>"
      ]
     },
     "metadata": {
      "needs_background": "light"
     },
     "output_type": "display_data"
    }
   ],
   "source": [
    "df = pd.DataFrame(np.random.randn(1000, 4), index=ts.index, columns=['A', 'B', 'C', 'D'])\n",
    "df = df.cumsum()\n",
    "df.plot()"
   ]
  },
  {
   "cell_type": "markdown",
   "metadata": {},
   "source": [
    "## 数据输入 / 输出"
   ]
  },
  {
   "cell_type": "code",
   "execution_count": 173,
   "metadata": {},
   "outputs": [
    {
     "data": {
      "text/html": [
       "<div>\n",
       "<style scoped>\n",
       "    .dataframe tbody tr th:only-of-type {\n",
       "        vertical-align: middle;\n",
       "    }\n",
       "\n",
       "    .dataframe tbody tr th {\n",
       "        vertical-align: top;\n",
       "    }\n",
       "\n",
       "    .dataframe thead th {\n",
       "        text-align: right;\n",
       "    }\n",
       "</style>\n",
       "<table border=\"1\" class=\"dataframe\">\n",
       "  <thead>\n",
       "    <tr style=\"text-align: right;\">\n",
       "      <th></th>\n",
       "      <th>A</th>\n",
       "      <th>B</th>\n",
       "      <th>C</th>\n",
       "      <th>D</th>\n",
       "    </tr>\n",
       "  </thead>\n",
       "  <tbody>\n",
       "    <tr>\n",
       "      <th>2000-01-01</th>\n",
       "      <td>0.210972</td>\n",
       "      <td>0.101694</td>\n",
       "      <td>-0.016658</td>\n",
       "      <td>-0.591807</td>\n",
       "    </tr>\n",
       "    <tr>\n",
       "      <th>2000-01-02</th>\n",
       "      <td>-0.001482</td>\n",
       "      <td>0.345529</td>\n",
       "      <td>0.325609</td>\n",
       "      <td>-2.450211</td>\n",
       "    </tr>\n",
       "    <tr>\n",
       "      <th>2000-01-03</th>\n",
       "      <td>1.151839</td>\n",
       "      <td>2.702451</td>\n",
       "      <td>-0.162050</td>\n",
       "      <td>-1.801245</td>\n",
       "    </tr>\n",
       "    <tr>\n",
       "      <th>2000-01-04</th>\n",
       "      <td>3.171220</td>\n",
       "      <td>2.790512</td>\n",
       "      <td>-0.367372</td>\n",
       "      <td>-1.344589</td>\n",
       "    </tr>\n",
       "    <tr>\n",
       "      <th>2000-01-05</th>\n",
       "      <td>2.766653</td>\n",
       "      <td>3.677963</td>\n",
       "      <td>0.048706</td>\n",
       "      <td>-1.349211</td>\n",
       "    </tr>\n",
       "    <tr>\n",
       "      <th>...</th>\n",
       "      <td>...</td>\n",
       "      <td>...</td>\n",
       "      <td>...</td>\n",
       "      <td>...</td>\n",
       "    </tr>\n",
       "    <tr>\n",
       "      <th>2002-09-22</th>\n",
       "      <td>34.220343</td>\n",
       "      <td>-60.615994</td>\n",
       "      <td>-6.327267</td>\n",
       "      <td>21.885286</td>\n",
       "    </tr>\n",
       "    <tr>\n",
       "      <th>2002-09-23</th>\n",
       "      <td>33.190906</td>\n",
       "      <td>-59.841410</td>\n",
       "      <td>-6.667934</td>\n",
       "      <td>21.306380</td>\n",
       "    </tr>\n",
       "    <tr>\n",
       "      <th>2002-09-24</th>\n",
       "      <td>33.976050</td>\n",
       "      <td>-60.600653</td>\n",
       "      <td>-8.620723</td>\n",
       "      <td>21.542134</td>\n",
       "    </tr>\n",
       "    <tr>\n",
       "      <th>2002-09-25</th>\n",
       "      <td>32.964512</td>\n",
       "      <td>-61.425709</td>\n",
       "      <td>-8.714085</td>\n",
       "      <td>20.625743</td>\n",
       "    </tr>\n",
       "    <tr>\n",
       "      <th>2002-09-26</th>\n",
       "      <td>33.406279</td>\n",
       "      <td>-61.398043</td>\n",
       "      <td>-7.306130</td>\n",
       "      <td>23.728145</td>\n",
       "    </tr>\n",
       "  </tbody>\n",
       "</table>\n",
       "<p>1000 rows × 4 columns</p>\n",
       "</div>"
      ],
      "text/plain": [
       "                    A          B         C          D\n",
       "2000-01-01   0.210972   0.101694 -0.016658  -0.591807\n",
       "2000-01-02  -0.001482   0.345529  0.325609  -2.450211\n",
       "2000-01-03   1.151839   2.702451 -0.162050  -1.801245\n",
       "2000-01-04   3.171220   2.790512 -0.367372  -1.344589\n",
       "2000-01-05   2.766653   3.677963  0.048706  -1.349211\n",
       "...               ...        ...       ...        ...\n",
       "2002-09-22  34.220343 -60.615994 -6.327267  21.885286\n",
       "2002-09-23  33.190906 -59.841410 -6.667934  21.306380\n",
       "2002-09-24  33.976050 -60.600653 -8.620723  21.542134\n",
       "2002-09-25  32.964512 -61.425709 -8.714085  20.625743\n",
       "2002-09-26  33.406279 -61.398043 -7.306130  23.728145\n",
       "\n",
       "[1000 rows x 4 columns]"
      ]
     },
     "execution_count": 173,
     "metadata": {},
     "output_type": "execute_result"
    }
   ],
   "source": [
    "df"
   ]
  },
  {
   "cell_type": "code",
   "execution_count": 174,
   "metadata": {},
   "outputs": [],
   "source": [
    "df.to_csv('test.csv')"
   ]
  },
  {
   "cell_type": "code",
   "execution_count": 176,
   "metadata": {},
   "outputs": [
    {
     "data": {
      "text/html": [
       "<div>\n",
       "<style scoped>\n",
       "    .dataframe tbody tr th:only-of-type {\n",
       "        vertical-align: middle;\n",
       "    }\n",
       "\n",
       "    .dataframe tbody tr th {\n",
       "        vertical-align: top;\n",
       "    }\n",
       "\n",
       "    .dataframe thead th {\n",
       "        text-align: right;\n",
       "    }\n",
       "</style>\n",
       "<table border=\"1\" class=\"dataframe\">\n",
       "  <thead>\n",
       "    <tr style=\"text-align: right;\">\n",
       "      <th></th>\n",
       "      <th>Unnamed: 0</th>\n",
       "      <th>A</th>\n",
       "      <th>B</th>\n",
       "      <th>C</th>\n",
       "      <th>D</th>\n",
       "    </tr>\n",
       "  </thead>\n",
       "  <tbody>\n",
       "    <tr>\n",
       "      <th>0</th>\n",
       "      <td>2000-01-01</td>\n",
       "      <td>0.210972</td>\n",
       "      <td>0.101694</td>\n",
       "      <td>-0.016658</td>\n",
       "      <td>-0.591807</td>\n",
       "    </tr>\n",
       "    <tr>\n",
       "      <th>1</th>\n",
       "      <td>2000-01-02</td>\n",
       "      <td>-0.001482</td>\n",
       "      <td>0.345529</td>\n",
       "      <td>0.325609</td>\n",
       "      <td>-2.450211</td>\n",
       "    </tr>\n",
       "    <tr>\n",
       "      <th>2</th>\n",
       "      <td>2000-01-03</td>\n",
       "      <td>1.151839</td>\n",
       "      <td>2.702451</td>\n",
       "      <td>-0.162050</td>\n",
       "      <td>-1.801245</td>\n",
       "    </tr>\n",
       "    <tr>\n",
       "      <th>3</th>\n",
       "      <td>2000-01-04</td>\n",
       "      <td>3.171220</td>\n",
       "      <td>2.790512</td>\n",
       "      <td>-0.367372</td>\n",
       "      <td>-1.344589</td>\n",
       "    </tr>\n",
       "    <tr>\n",
       "      <th>4</th>\n",
       "      <td>2000-01-05</td>\n",
       "      <td>2.766653</td>\n",
       "      <td>3.677963</td>\n",
       "      <td>0.048706</td>\n",
       "      <td>-1.349211</td>\n",
       "    </tr>\n",
       "    <tr>\n",
       "      <th>...</th>\n",
       "      <td>...</td>\n",
       "      <td>...</td>\n",
       "      <td>...</td>\n",
       "      <td>...</td>\n",
       "      <td>...</td>\n",
       "    </tr>\n",
       "    <tr>\n",
       "      <th>995</th>\n",
       "      <td>2002-09-22</td>\n",
       "      <td>34.220343</td>\n",
       "      <td>-60.615994</td>\n",
       "      <td>-6.327267</td>\n",
       "      <td>21.885286</td>\n",
       "    </tr>\n",
       "    <tr>\n",
       "      <th>996</th>\n",
       "      <td>2002-09-23</td>\n",
       "      <td>33.190906</td>\n",
       "      <td>-59.841410</td>\n",
       "      <td>-6.667934</td>\n",
       "      <td>21.306380</td>\n",
       "    </tr>\n",
       "    <tr>\n",
       "      <th>997</th>\n",
       "      <td>2002-09-24</td>\n",
       "      <td>33.976050</td>\n",
       "      <td>-60.600653</td>\n",
       "      <td>-8.620723</td>\n",
       "      <td>21.542134</td>\n",
       "    </tr>\n",
       "    <tr>\n",
       "      <th>998</th>\n",
       "      <td>2002-09-25</td>\n",
       "      <td>32.964512</td>\n",
       "      <td>-61.425709</td>\n",
       "      <td>-8.714085</td>\n",
       "      <td>20.625743</td>\n",
       "    </tr>\n",
       "    <tr>\n",
       "      <th>999</th>\n",
       "      <td>2002-09-26</td>\n",
       "      <td>33.406279</td>\n",
       "      <td>-61.398043</td>\n",
       "      <td>-7.306130</td>\n",
       "      <td>23.728145</td>\n",
       "    </tr>\n",
       "  </tbody>\n",
       "</table>\n",
       "<p>1000 rows × 5 columns</p>\n",
       "</div>"
      ],
      "text/plain": [
       "     Unnamed: 0          A          B         C          D\n",
       "0    2000-01-01   0.210972   0.101694 -0.016658  -0.591807\n",
       "1    2000-01-02  -0.001482   0.345529  0.325609  -2.450211\n",
       "2    2000-01-03   1.151839   2.702451 -0.162050  -1.801245\n",
       "3    2000-01-04   3.171220   2.790512 -0.367372  -1.344589\n",
       "4    2000-01-05   2.766653   3.677963  0.048706  -1.349211\n",
       "..          ...        ...        ...       ...        ...\n",
       "995  2002-09-22  34.220343 -60.615994 -6.327267  21.885286\n",
       "996  2002-09-23  33.190906 -59.841410 -6.667934  21.306380\n",
       "997  2002-09-24  33.976050 -60.600653 -8.620723  21.542134\n",
       "998  2002-09-25  32.964512 -61.425709 -8.714085  20.625743\n",
       "999  2002-09-26  33.406279 -61.398043 -7.306130  23.728145\n",
       "\n",
       "[1000 rows x 5 columns]"
      ]
     },
     "execution_count": 176,
     "metadata": {},
     "output_type": "execute_result"
    }
   ],
   "source": [
    "df2 = pd.read_csv('test.csv')\n",
    "df2"
   ]
  },
  {
   "cell_type": "code",
   "execution_count": 177,
   "metadata": {},
   "outputs": [],
   "source": [
    "df.to_excel('test2.xlsx', sheet_name='Sheet1')"
   ]
  },
  {
   "cell_type": "code",
   "execution_count": 178,
   "metadata": {},
   "outputs": [
    {
     "data": {
      "text/html": [
       "<div>\n",
       "<style scoped>\n",
       "    .dataframe tbody tr th:only-of-type {\n",
       "        vertical-align: middle;\n",
       "    }\n",
       "\n",
       "    .dataframe tbody tr th {\n",
       "        vertical-align: top;\n",
       "    }\n",
       "\n",
       "    .dataframe thead th {\n",
       "        text-align: right;\n",
       "    }\n",
       "</style>\n",
       "<table border=\"1\" class=\"dataframe\">\n",
       "  <thead>\n",
       "    <tr style=\"text-align: right;\">\n",
       "      <th></th>\n",
       "      <th>Unnamed: 0</th>\n",
       "      <th>A</th>\n",
       "      <th>B</th>\n",
       "      <th>C</th>\n",
       "      <th>D</th>\n",
       "    </tr>\n",
       "  </thead>\n",
       "  <tbody>\n",
       "    <tr>\n",
       "      <th>0</th>\n",
       "      <td>2000-01-01</td>\n",
       "      <td>0.210972</td>\n",
       "      <td>0.101694</td>\n",
       "      <td>-0.016658</td>\n",
       "      <td>-0.591807</td>\n",
       "    </tr>\n",
       "    <tr>\n",
       "      <th>1</th>\n",
       "      <td>2000-01-02</td>\n",
       "      <td>-0.001482</td>\n",
       "      <td>0.345529</td>\n",
       "      <td>0.325609</td>\n",
       "      <td>-2.450211</td>\n",
       "    </tr>\n",
       "    <tr>\n",
       "      <th>2</th>\n",
       "      <td>2000-01-03</td>\n",
       "      <td>1.151839</td>\n",
       "      <td>2.702451</td>\n",
       "      <td>-0.162050</td>\n",
       "      <td>-1.801245</td>\n",
       "    </tr>\n",
       "    <tr>\n",
       "      <th>3</th>\n",
       "      <td>2000-01-04</td>\n",
       "      <td>3.171220</td>\n",
       "      <td>2.790512</td>\n",
       "      <td>-0.367372</td>\n",
       "      <td>-1.344589</td>\n",
       "    </tr>\n",
       "    <tr>\n",
       "      <th>4</th>\n",
       "      <td>2000-01-05</td>\n",
       "      <td>2.766653</td>\n",
       "      <td>3.677963</td>\n",
       "      <td>0.048706</td>\n",
       "      <td>-1.349211</td>\n",
       "    </tr>\n",
       "    <tr>\n",
       "      <th>...</th>\n",
       "      <td>...</td>\n",
       "      <td>...</td>\n",
       "      <td>...</td>\n",
       "      <td>...</td>\n",
       "      <td>...</td>\n",
       "    </tr>\n",
       "    <tr>\n",
       "      <th>995</th>\n",
       "      <td>2002-09-22</td>\n",
       "      <td>34.220343</td>\n",
       "      <td>-60.615994</td>\n",
       "      <td>-6.327267</td>\n",
       "      <td>21.885286</td>\n",
       "    </tr>\n",
       "    <tr>\n",
       "      <th>996</th>\n",
       "      <td>2002-09-23</td>\n",
       "      <td>33.190906</td>\n",
       "      <td>-59.841410</td>\n",
       "      <td>-6.667934</td>\n",
       "      <td>21.306380</td>\n",
       "    </tr>\n",
       "    <tr>\n",
       "      <th>997</th>\n",
       "      <td>2002-09-24</td>\n",
       "      <td>33.976050</td>\n",
       "      <td>-60.600653</td>\n",
       "      <td>-8.620723</td>\n",
       "      <td>21.542134</td>\n",
       "    </tr>\n",
       "    <tr>\n",
       "      <th>998</th>\n",
       "      <td>2002-09-25</td>\n",
       "      <td>32.964512</td>\n",
       "      <td>-61.425709</td>\n",
       "      <td>-8.714085</td>\n",
       "      <td>20.625743</td>\n",
       "    </tr>\n",
       "    <tr>\n",
       "      <th>999</th>\n",
       "      <td>2002-09-26</td>\n",
       "      <td>33.406279</td>\n",
       "      <td>-61.398043</td>\n",
       "      <td>-7.306130</td>\n",
       "      <td>23.728145</td>\n",
       "    </tr>\n",
       "  </tbody>\n",
       "</table>\n",
       "<p>1000 rows × 5 columns</p>\n",
       "</div>"
      ],
      "text/plain": [
       "    Unnamed: 0          A          B         C          D\n",
       "0   2000-01-01   0.210972   0.101694 -0.016658  -0.591807\n",
       "1   2000-01-02  -0.001482   0.345529  0.325609  -2.450211\n",
       "2   2000-01-03   1.151839   2.702451 -0.162050  -1.801245\n",
       "3   2000-01-04   3.171220   2.790512 -0.367372  -1.344589\n",
       "4   2000-01-05   2.766653   3.677963  0.048706  -1.349211\n",
       "..         ...        ...        ...       ...        ...\n",
       "995 2002-09-22  34.220343 -60.615994 -6.327267  21.885286\n",
       "996 2002-09-23  33.190906 -59.841410 -6.667934  21.306380\n",
       "997 2002-09-24  33.976050 -60.600653 -8.620723  21.542134\n",
       "998 2002-09-25  32.964512 -61.425709 -8.714085  20.625743\n",
       "999 2002-09-26  33.406279 -61.398043 -7.306130  23.728145\n",
       "\n",
       "[1000 rows x 5 columns]"
      ]
     },
     "execution_count": 178,
     "metadata": {},
     "output_type": "execute_result"
    }
   ],
   "source": [
    "df3 = pd.read_excel('test2.xlsx', sheet_name='Sheet1')\n",
    "df3"
   ]
  },
  {
   "cell_type": "code",
   "execution_count": null,
   "metadata": {},
   "outputs": [],
   "source": []
  }
 ],
 "metadata": {
  "kernelspec": {
   "display_name": "Python 3",
   "language": "python",
   "name": "python3"
  },
  "language_info": {
   "codemirror_mode": {
    "name": "ipython",
    "version": 3
   },
   "file_extension": ".py",
   "mimetype": "text/x-python",
   "name": "python",
   "nbconvert_exporter": "python",
   "pygments_lexer": "ipython3",
   "version": "3.7.6"
  },
  "widgets": {
   "application/vnd.jupyter.widget-state+json": {
    "state": {},
    "version_major": 2,
    "version_minor": 0
   }
  }
 },
 "nbformat": 4,
 "nbformat_minor": 4
}
