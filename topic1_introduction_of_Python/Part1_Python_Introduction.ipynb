{
 "cells": [
  {
   "cell_type": "markdown",
   "metadata": {},
   "source": [
    "# Python是什么？"
   ]
  },
  {
   "cell_type": "markdown",
   "metadata": {},
   "source": [
    "\n",
    "### Python是一种高级的多用途编程语言，广泛用于各种非技术和技术领域。Python是一种具备动态语义、面向对象的解释型高级编程语言。它的高级内建数据结构和动态类型及动态绑定相结合，使其在快速应用开发上极具吸引力，也适合于作为脚本或者“粘合剂”语言，将现有组件连接起来。Python简单、易学的语法强调可读性，因此可以降低程序维护成本。Python支持模块和软件包，鼓励模块化的代码重用。"
   ]
  },
  {
   "cell_type": "code",
   "execution_count": 2,
   "metadata": {},
   "outputs": [
    {
     "name": "stdout",
     "output_type": "stream",
     "text": [
      "hellow world\n"
     ]
    }
   ],
   "source": [
    "print('hellow world')"
   ]
  },
  {
   "cell_type": "markdown",
   "metadata": {},
   "source": [
    "## Python简史\n",
    "### 1989，为了度过圣诞假期，Guido开始编写Python语言编译器。Python这个名字来自Guido的喜爱的电视连续剧《蒙蒂蟒蛇的飞行马戏团》。他希望新的语言Python能够满足他在C和Shell之间创建全功能、易学、可扩展的语言的愿景。\n",
    "### 1989年由荷兰人Guido van Rossum于1989年发明，第一个公开发行版发行于1991年\n",
    "### Granddaddy of Python web frameworks, Zope 1 was released in 1999\n",
    "### Python 1.0 - January 1994 增加了 lambda, map, filter and reduce.\n",
    "### Python 2.0 - October 16, 2000，加入了内存回收机制，构成了现在Python语言框架的基础\n",
    "### Python 2.4 - November 30, 2004, 同年目前最流行的WEB框架Django 诞生\n",
    "### Python 2.5 - September 19, 2006\n",
    "### Python 2.6 - October 1, 2008\n",
    "### Python 2.7 - July 3, 2010\n",
    "### Python 3.0 - December 3, 2008\n",
    "### Python 3.1 - June 27, 2009\n",
    "### Python 3.2 - February 20, 2011\n",
    "### Python 3.3 - September 29, 2012\n",
    "### Python 3.4 - March 16, 2014\n",
    "### Python 3.5 - September 13, 2015\n",
    "### Python 3.6 - December 23, 2016\n",
    "### Python 3.7 - June 15, 2018\n",
    "## Python的主要运用领域有:\n",
    "### 云计算：云计算最热的语言，典型的应用OpenStack\n",
    "### WEB开发：许多优秀的WEB框架，许多大型网站是Python开发、YouTube、Dropbox、Douban……典型的Web框架包括Django\n",
    "### 科学计算和人工智能：典型的图书馆NumPy、SciPy、Matplotlib、Enided图书馆、熊猫\n",
    "### 系统操作和维护：操作和维护人员的基本语言\n",
    "### 金融：定量交易、金融分析，在金融工程领域，Python不仅使用最多，而且使用最多，其重要性逐年增加。"
   ]
  },
  {
   "cell_type": "markdown",
   "metadata": {},
   "source": [
    "![jupyter](./tiobe_rank.png)"
   ]
  },
  {
   "cell_type": "markdown",
   "metadata": {},
   "source": [
    "## Python在一些公司的运用有:\n",
    "### 谷歌：谷歌应用程序引擎，代码。谷歌。com、Google.、Google爬虫、Google广告和其他项目正在广泛使用Python。\n",
    "### CIA：美国中情局网站是用Python开发的\n",
    "### NASA：美国航天局广泛使用Python进行数据分析和计算\n",
    "### YouTube：世界上最大的视频网站YouTube是用Python开发的。\n",
    "### Dropbox：美国最大的在线云存储网站，全部用Python实现，每天处理10亿的文件上传和下载。\n",
    "### Instagram：美国最大的照片共享社交网站，每天有3000多万张照片被共享，所有这些都是用Python开发的\n",
    "### Facebook：大量的基本库是通过Python实现的\n",
    "### Red.：世界上最流行的Linux发行版中的Yum包管理工具是用Python开发的\n",
    "### Douban：几乎所有公司的业务都是通过Python开发的。\n",
    "### 知识：中国最大的Q＆A社区，通过Python开发（国外Quora）\n",
    "### 除此之外，还有搜狐、金山、腾讯、盛大、网易、百度、阿里、淘宝、土豆、新浪、果壳等公司正在使用Python来完成各种任务。"
   ]
  },
  {
   "cell_type": "markdown",
   "metadata": {},
   "source": [
    "## Python有如下特征:\n",
    "### 1. 开放源码：Python和大部分可用的支持库及工具都是开源的，通常使用相当灵活和开放的许可证。\n",
    "### 2. 多重范型：Python支持不同的编程和实现范型，例如面向对象和命令式/函数式或者过程式编程。\n",
    "### 3. 多用途：Python可以用用于快速、交互式代码开发，也可以用于构建大型应用程序；它可以用于低级系统操作，也可以承担高级分析任务。\n",
    "### 4. 跨平台：Python可用于大部分重要的操作系统，如Windows、Linux和Mac OS；它用于构建桌面应用和Web应用。\n",
    "### 5. 运行速度慢：这里是指与C和C++相比。"
   ]
  },
  {
   "cell_type": "markdown",
   "metadata": {},
   "source": [
    "## Python 常用标准库"
   ]
  },
  {
   "cell_type": "markdown",
   "metadata": {},
   "source": [
    "### math模块为浮点运算提供了对底层C函数库的访问: "
   ]
  },
  {
   "cell_type": "code",
   "execution_count": 3,
   "metadata": {},
   "outputs": [
    {
     "name": "stdout",
     "output_type": "stream",
     "text": [
      "3.141592653589793\n",
      "10.0\n"
     ]
    }
   ],
   "source": [
    "import math\n",
    "print(math.pi)\n",
    "print(math.log(1024, 2))"
   ]
  },
  {
   "cell_type": "markdown",
   "metadata": {},
   "source": [
    "### random提供了生成随机数的工具。"
   ]
  },
  {
   "cell_type": "code",
   "execution_count": 6,
   "metadata": {},
   "outputs": [
    {
     "name": "stdout",
     "output_type": "stream",
     "text": [
      "apple\n",
      "0.0034954793658343863\n"
     ]
    }
   ],
   "source": [
    "import random\n",
    "print(random.choice(['apple', 'pear', 'banana']))\n",
    "print(random.random())"
   ]
  },
  {
   "cell_type": "markdown",
   "metadata": {},
   "source": [
    "### datetime模块为日期和时间处理同时提供了简单和复杂的方法。"
   ]
  },
  {
   "cell_type": "code",
   "execution_count": 10,
   "metadata": {},
   "outputs": [
    {
     "name": "stdout",
     "output_type": "stream",
     "text": [
      "7625\n"
     ]
    }
   ],
   "source": [
    "from datetime import date\n",
    "now = date.today()\n",
    "birthday = date(1999, 8, 20)\n",
    "age = now - birthday\n",
    "print(age.days)"
   ]
  },
  {
   "cell_type": "markdown",
   "metadata": {},
   "source": [
    "### Numpy是高性能科学计算和数据分析的基础包。\n",
    "### Pandas 纳入了大量库和一些标准的数据模型，提供了高效地操作大型数据集所需的工具。\n",
    "### Statismodels是一个Python模块，它提供对许多不同统计模型估计的类和函数，并且可以进行统计测试和统计数据的探索。\n",
    "### matplotlib一个绘制数据图的库。对于数据科学家或分析师非常有用。\n",
    "### 更多https://docs.python.org/zh-cn/3/library/"
   ]
  },
  {
   "cell_type": "markdown",
   "metadata": {},
   "source": [
    "# 基础架构工具"
   ]
  },
  {
   "cell_type": "markdown",
   "metadata": {},
   "source": [
    "## Anaconda安装"
   ]
  },
  {
   "cell_type": "markdown",
   "metadata": {},
   "source": [
    "https://www.anaconda.com/products/individual"
   ]
  },
  {
   "cell_type": "markdown",
   "metadata": {},
   "source": [
    "## Spyder使用"
   ]
  },
  {
   "cell_type": "markdown",
   "metadata": {},
   "source": [
    "## GitHub创建与使用"
   ]
  },
  {
   "cell_type": "markdown",
   "metadata": {},
   "source": [
    "### GitHub 是一个面向开源及私有软件项目的托管平台，因为只支持 Git 作为唯一的版本库格式进行托管，故名 GitHub。 GitHub 于 2008 年 4 月 10 日正式上线，除了 Git 代码仓库托管及基本的 Web 管理界面以外，还提供了订阅、讨论组、文本渲染、在线文件编辑器、协作图谱（报表）、代码片段分享（Gist）等功能。目前，其注册用户已经超过350万，托管版本数量也是非常之多，其中不乏知名开源项目 Ruby on Rails、jQuery、python 等。GitHub 去年为漏洞支付了 16.6 万美元赏金。 2018年6月，GitHub被微软以75亿美元的价格收购。https://github.com/"
   ]
  },
  {
   "cell_type": "markdown",
   "metadata": {},
   "source": [
    "# Python基础语法"
   ]
  },
  {
   "cell_type": "code",
   "execution_count": 1,
   "metadata": {},
   "outputs": [
    {
     "name": "stdout",
     "output_type": "stream",
     "text": [
      "Hello, Python!\n"
     ]
    }
   ],
   "source": [
    "print (\"Hello, Python!\")"
   ]
  },
  {
   "cell_type": "markdown",
   "metadata": {},
   "source": [
    "## 行和缩进"
   ]
  },
  {
   "cell_type": "markdown",
   "metadata": {},
   "source": [
    "### python 最具特色的就是用缩进来写模块。\n",
    "### 缩进的空白数量是可变的，但是所有代码块语句必须包含相同的缩进空白数量，这个必须严格执行。\n",
    "### 以下实例缩进为四个空格:"
   ]
  },
  {
   "cell_type": "code",
   "execution_count": 2,
   "metadata": {},
   "outputs": [
    {
     "name": "stdout",
     "output_type": "stream",
     "text": [
      "False\n"
     ]
    }
   ],
   "source": [
    "if 1>2:\n",
    "    print (\"True\")\n",
    "else:\n",
    "    print (\"False\")"
   ]
  },
  {
   "cell_type": "code",
   "execution_count": 4,
   "metadata": {
    "scrolled": true
   },
   "outputs": [
    {
     "ename": "IndentationError",
     "evalue": "unindent does not match any outer indentation level (<tokenize>, line 7)",
     "output_type": "error",
     "traceback": [
      "\u001b[0;36m  File \u001b[0;32m\"<tokenize>\"\u001b[0;36m, line \u001b[0;32m7\u001b[0m\n\u001b[0;31m    print (\"False\")\u001b[0m\n\u001b[0m    ^\u001b[0m\n\u001b[0;31mIndentationError\u001b[0m\u001b[0;31m:\u001b[0m unindent does not match any outer indentation level\n"
     ]
    }
   ],
   "source": [
    "if True:\n",
    "    print (\"Answer\")\n",
    "    print (\"True\")\n",
    "else:\n",
    "    print (\"Answer\")\n",
    "    # 没有严格缩进，在执行时会报错\n",
    "  print (\"False\")"
   ]
  },
  {
   "cell_type": "markdown",
   "metadata": {},
   "source": [
    "## 多行语句"
   ]
  },
  {
   "cell_type": "markdown",
   "metadata": {},
   "source": [
    "### Python语句中一般以新行作为语句的结束符。\n",
    "### 但是我们可以使用斜杠（ \\）将一行的语句分为多行显示，如下所示："
   ]
  },
  {
   "cell_type": "code",
   "execution_count": 6,
   "metadata": {},
   "outputs": [
    {
     "name": "stdout",
     "output_type": "stream",
     "text": [
      "6\n"
     ]
    }
   ],
   "source": [
    "total = 1 + \\\n",
    "        2 + \\\n",
    "        3\n",
    "print(total)"
   ]
  },
  {
   "cell_type": "markdown",
   "metadata": {},
   "source": [
    "### 语句中包含 [], {} 或 () 括号就不需要使用多行连接符。如下实例："
   ]
  },
  {
   "cell_type": "code",
   "execution_count": 7,
   "metadata": {},
   "outputs": [
    {
     "name": "stdout",
     "output_type": "stream",
     "text": [
      "['Monday', 'Tuesday', 'Wednesday', 'Thursday', 'Friday']\n"
     ]
    }
   ],
   "source": [
    "days = ['Monday', 'Tuesday', 'Wednesday',\n",
    "        'Thursday', 'Friday']\n",
    "print(days)"
   ]
  },
  {
   "cell_type": "markdown",
   "metadata": {},
   "source": [
    "## Python 引号"
   ]
  },
  {
   "cell_type": "markdown",
   "metadata": {},
   "source": [
    "### Python 可以使用引号( ' )、双引号( \" )、三引号( ''' 或 \"\"\" ) 来表示字符串，引号的开始与结束必须是相同类型的。\n",
    "### 其中三引号可以由多行组成，编写多行文本的快捷语法，常用于文档字符串，在文件的特定地点，被当做注释。"
   ]
  },
  {
   "cell_type": "code",
   "execution_count": 8,
   "metadata": {},
   "outputs": [
    {
     "name": "stdout",
     "output_type": "stream",
     "text": [
      "word\n",
      "这是一个句子。\n",
      "这是一个段落。\n",
      "包含了多个语句\n"
     ]
    }
   ],
   "source": [
    "word = 'word'\n",
    "sentence = \"这是一个句子。\"\n",
    "paragraph = \"\"\"这是一个段落。\n",
    "包含了多个语句\"\"\"\n",
    "print(word)\n",
    "print(sentence)\n",
    "print(paragraph)"
   ]
  },
  {
   "cell_type": "markdown",
   "metadata": {},
   "source": [
    "## Python注释"
   ]
  },
  {
   "cell_type": "markdown",
   "metadata": {},
   "source": [
    "### python中单行注释采用 # 开头。"
   ]
  },
  {
   "cell_type": "code",
   "execution_count": 9,
   "metadata": {},
   "outputs": [
    {
     "name": "stdout",
     "output_type": "stream",
     "text": [
      "Hello, Python!\n"
     ]
    }
   ],
   "source": [
    "# 第一个注释\n",
    "print (\"Hello, Python!\")  # 第二个注释"
   ]
  },
  {
   "cell_type": "markdown",
   "metadata": {},
   "source": [
    "# Python变量类型"
   ]
  },
  {
   "cell_type": "markdown",
   "metadata": {},
   "source": [
    "## 标准数据类型"
   ]
  },
  {
   "cell_type": "markdown",
   "metadata": {},
   "source": [
    "### 在内存中存储的数据可以有多种类型。\n",
    "### 例如，一个人的年龄可以用数字来存储，他的名字可以用字符来存储。\n",
    "### Python 定义了一些标准类型，用于存储各种类型的数据。\n",
    "### Python有五个标准的数据类型：\n",
    "### Numbers（数字）\n",
    "### String（字符串）\n",
    "### List（列表）\n",
    "### Tuple（元组）\n",
    "### Dictionary（字典）"
   ]
  },
  {
   "cell_type": "markdown",
   "metadata": {},
   "source": [
    "## Python数字"
   ]
  },
  {
   "cell_type": "markdown",
   "metadata": {},
   "source": [
    "### Python支持三种不同的数字类型：\n",
    "### int（有符号整型）\n",
    "### float（浮点型）\n",
    "### complex（复数）"
   ]
  },
  {
   "cell_type": "code",
   "execution_count": 10,
   "metadata": {},
   "outputs": [
    {
     "name": "stdout",
     "output_type": "stream",
     "text": [
      "<class 'int'> <class 'float'> <class 'complex'>\n"
     ]
    }
   ],
   "source": [
    "int1 = 1\n",
    "float2 = 2.0\n",
    "complex3 = 1+2j\n",
    "print(type(int1),type(float2),type(complex3))"
   ]
  },
  {
   "cell_type": "markdown",
   "metadata": {},
   "source": [
    "## Python字符串"
   ]
  },
  {
   "cell_type": "markdown",
   "metadata": {},
   "source": [
    "### 字符串或串(String)是由数字、字母、下划线组成的一串字符。"
   ]
  },
  {
   "cell_type": "code",
   "execution_count": 11,
   "metadata": {},
   "outputs": [
    {
     "name": "stdout",
     "output_type": "stream",
     "text": [
      "123asd_\n",
      "123\n"
     ]
    }
   ],
   "source": [
    "st = '123asd_'\n",
    "st1 = st[0:3]\n",
    "print(st)\n",
    "print(st1)"
   ]
  },
  {
   "cell_type": "markdown",
   "metadata": {},
   "source": [
    "## Python列表"
   ]
  },
  {
   "cell_type": "markdown",
   "metadata": {},
   "source": [
    "### List（列表） 是 Python 中使用最频繁的数据类型。\n",
    "### 列表可以完成大多数集合类的数据结构实现。它支持字符，数字，字符串甚至可以包含列表（即嵌套）。\n",
    "### 列表用 [ ] 标识，是 python 最通用的复合数据类型。"
   ]
  },
  {
   "cell_type": "code",
   "execution_count": 13,
   "metadata": {},
   "outputs": [
    {
     "name": "stdout",
     "output_type": "stream",
     "text": [
      "['runoob', 786, 2.23, 'john', 70.2]\n",
      "runoob\n",
      "[786, 2.23]\n",
      "[2.23, 'john', 70.2]\n",
      "[123, 'john', 123, 'john']\n",
      "['runoob', 786, 2.23, 'john', 70.2, 123, 'john']\n",
      "[0, 786, 2.23, 'john', 70.2]\n"
     ]
    }
   ],
   "source": [
    "list1 = [ 'runoob', 786 , 2.23, 'john', 70.2 ]\n",
    "tinylist = [123, 'john']\n",
    " \n",
    "print (list1)                 # 输出完整列表\n",
    "print (list1[0])             # 输出列表的第一个元素\n",
    "print (list1[1:3])           # 输出第二个至第三个元素 \n",
    "print (list1[2:])            # 输出从第三个开始至列表末尾的所有元素\n",
    "print (tinylist * 2)        # 输出列表两次\n",
    "print (list1 + tinylist)     # 打印组合的列表\n",
    "\n",
    "list1[0] = 0\n",
    "print(list1)"
   ]
  },
  {
   "cell_type": "markdown",
   "metadata": {},
   "source": [
    "## Python元组"
   ]
  },
  {
   "cell_type": "markdown",
   "metadata": {},
   "source": [
    "### 元组是另一个数据类型，类似于 List（列表）。\n",
    "### 元组用 () 标识。内部元素用逗号隔开。但是元组不能二次赋值，相当于只读列表。"
   ]
  },
  {
   "cell_type": "code",
   "execution_count": 15,
   "metadata": {},
   "outputs": [
    {
     "name": "stdout",
     "output_type": "stream",
     "text": [
      "runoob\n",
      "('runoob', 786, 2.23, 'john', 70.2, 123, 'john')\n"
     ]
    }
   ],
   "source": [
    "tuple1 = ( 'runoob', 786 , 2.23, 'john', 70.2 )\n",
    "tinytuple = (123, 'john')\n",
    "print(tuple1[0])\n",
    "print(tuple1+tinytuple)"
   ]
  },
  {
   "cell_type": "markdown",
   "metadata": {},
   "source": [
    "## Python 字典"
   ]
  },
  {
   "cell_type": "markdown",
   "metadata": {},
   "source": [
    "### 字典(dictionary)是除列表以外python之中最灵活的内置数据结构类型。列表是有序的对象集合，字典是无序的对象集合。\n",
    "### 两者之间的区别在于：字典当中的元素是通过键来存取的，而不是通过偏移存取。\n",
    "### 字典用\"{ }\"标识。字典由索引(key)和它对应的值value组成。"
   ]
  },
  {
   "cell_type": "code",
   "execution_count": 17,
   "metadata": {},
   "outputs": [
    {
     "name": "stdout",
     "output_type": "stream",
     "text": [
      "john\n",
      "{'one': 'This is one'}\n",
      "dict_keys(['name', 'code', 'dept'])\n",
      "dict_values(['john', 6734, 'sales'])\n"
     ]
    }
   ],
   "source": [
    "dict1 = {}\n",
    "dict1['one'] = \"This is one\"\n",
    " \n",
    "tinydict = {'name': 'john','code':6734, 'dept': 'sales'}\n",
    "\n",
    "print(tinydict['name'])\n",
    "print(dict1)\n",
    "print(tinydict.keys())\n",
    "print(tinydict.values())"
   ]
  },
  {
   "cell_type": "markdown",
   "metadata": {},
   "source": [
    "# Python运算符"
   ]
  },
  {
   "cell_type": "markdown",
   "metadata": {},
   "source": [
    "## Python算术运算符"
   ]
  },
  {
   "cell_type": "code",
   "execution_count": 18,
   "metadata": {},
   "outputs": [
    {
     "name": "stdout",
     "output_type": "stream",
     "text": [
      "c 的值为： 31\n",
      "c 的值为： 11\n",
      "c 的值为： 210\n",
      "c 的值为： 2.1\n",
      "c 的值为： 1\n",
      "c 的值为： 8\n",
      "c 的值为： 2\n"
     ]
    }
   ],
   "source": [
    "a = 21\n",
    "b = 10\n",
    "c = 0\n",
    " \n",
    "c = a + b\n",
    "print (\"c 的值为：\", c)\n",
    " \n",
    "c = a - b\n",
    "print (\"c 的值为：\", c)\n",
    " \n",
    "c = a * b\n",
    "print (\"c 的值为：\", c) \n",
    " \n",
    "c = a / b\n",
    "print (\"c 的值为：\", c) \n",
    " \n",
    "c = a % b       #取余数\n",
    "print (\"c 的值为：\", c)\n",
    " \n",
    "# 修改变量 a 、b 、c\n",
    "a = 2\n",
    "b = 3\n",
    "c = a**b \n",
    "print (\"c 的值为：\", c)\n",
    " \n",
    "a = 10\n",
    "b = 5\n",
    "c = a//b     #取整\n",
    "print (\"c 的值为：\", c)"
   ]
  },
  {
   "cell_type": "markdown",
   "metadata": {},
   "source": [
    "## Python比较运算符"
   ]
  },
  {
   "cell_type": "code",
   "execution_count": 19,
   "metadata": {},
   "outputs": [
    {
     "name": "stdout",
     "output_type": "stream",
     "text": [
      "a 不等于 b\n",
      "a 不等于 b\n",
      "a 大于等于 b\n",
      "a 大于 b\n",
      "a 小于等于 b\n",
      "b 大于等于 a\n"
     ]
    }
   ],
   "source": [
    "a = 21\n",
    "b = 10\n",
    "c = 0\n",
    " \n",
    "if  a == b :\n",
    "    print (\"a 等于 b\")\n",
    "else:\n",
    "    print (\"a 不等于 b\")\n",
    "\n",
    "if  a != b :\n",
    "    print (\"a 不等于 b\")\n",
    "else:\n",
    "    print (\"a 等于 b\")\n",
    "\n",
    "if  a < b :\n",
    "    print (\"a 小于 b\")\n",
    "else:\n",
    "    print (\"a 大于等于 b\")\n",
    "\n",
    "if  a > b :\n",
    "    print (\"a 大于 b\")\n",
    "else:\n",
    "    print (\"a 小于等于 b\")\n",
    "\n",
    "# 修改变量 a 和 b 的值\n",
    "a = 5\n",
    "b = 20\n",
    "if  a <= b :\n",
    "    print (\"a 小于等于 b\")\n",
    "else:\n",
    "    print (\"a 大于  b\")\n",
    "\n",
    "if  b >= a :\n",
    "    print (\"b 大于等于 a\")\n",
    "else:\n",
    "    print (\"b 小于 a\")"
   ]
  },
  {
   "cell_type": "markdown",
   "metadata": {},
   "source": [
    "## Python逻辑运算符"
   ]
  },
  {
   "cell_type": "code",
   "execution_count": 20,
   "metadata": {},
   "outputs": [
    {
     "name": "stdout",
     "output_type": "stream",
     "text": [
      "变量 a 和 b 有一个不为 true\n",
      "变量 a 和 b 都为 true，或其中一个变量为 true\n",
      "变量 a 和 b 都为 false，或其中一个变量为 false\n"
     ]
    }
   ],
   "source": [
    "a = True\n",
    "b = False\n",
    " \n",
    "if  a and b :\n",
    "    print (\"变量 a 和 b 都为 true\")\n",
    "else:\n",
    "    print (\"变量 a 和 b 有一个不为 true\")\n",
    "\n",
    "if  a or b :\n",
    "    print (\"变量 a 和 b 都为 true，或其中一个变量为 true\")\n",
    "else:\n",
    "    print (\"变量 a 和 b 都不为 true\")\n",
    "\n",
    "if not( a and b ):\n",
    "    print (\"变量 a 和 b 都为 false，或其中一个变量为 false\")\n",
    "else:\n",
    "    print (\"变量 a 和 b 都为 true\")"
   ]
  },
  {
   "cell_type": "markdown",
   "metadata": {},
   "source": [
    "## Python赋值运算符"
   ]
  },
  {
   "cell_type": "code",
   "execution_count": 21,
   "metadata": {},
   "outputs": [
    {
     "name": "stdout",
     "output_type": "stream",
     "text": [
      "c 的值为： 31\n",
      "c 的值为： 52\n",
      "c 的值为： 1092\n",
      "c 的值为： 52.0\n",
      "c 的值为： 2\n",
      "c 的值为： 2097152\n",
      "c 的值为： 99864\n"
     ]
    }
   ],
   "source": [
    "a = 21\n",
    "b = 10\n",
    "c = 0\n",
    " \n",
    "c = a + b\n",
    "print (\"c 的值为：\", c)\n",
    " \n",
    "c += a\n",
    "print (\"c 的值为：\", c)\n",
    " \n",
    "c *= a\n",
    "print (\"c 的值为：\", c) \n",
    " \n",
    "c /= a \n",
    "print (\"c 的值为：\", c) \n",
    " \n",
    "c = 2\n",
    "c %= a\n",
    "print (\"c 的值为：\", c)\n",
    " \n",
    "c **= a\n",
    "print (\"c 的值为：\", c)\n",
    " \n",
    "c //= a\n",
    "print (\"c 的值为：\", c)"
   ]
  },
  {
   "cell_type": "markdown",
   "metadata": {},
   "source": [
    "# Python 条件语句"
   ]
  },
  {
   "cell_type": "markdown",
   "metadata": {},
   "source": [
    "### Python条件语句是通过一条或多条语句的执行结果（True或者False）来决定执行的代码块。"
   ]
  },
  {
   "cell_type": "code",
   "execution_count": 23,
   "metadata": {},
   "outputs": [
    {
     "name": "stdout",
     "output_type": "stream",
     "text": [
      "luren\n"
     ]
    }
   ],
   "source": [
    "flag = False\n",
    "name = 'luren'\n",
    "if name == 'python':         # 判断变量是否为 python \n",
    "    flag = True                  # 条件成立时设置标志为真\n",
    "    print ('welcome boss')     # 并输出欢迎信息\n",
    "else:\n",
    "    print (name)               # 条件不成立时输出变量名称"
   ]
  },
  {
   "cell_type": "code",
   "execution_count": 24,
   "metadata": {},
   "outputs": [
    {
     "name": "stdout",
     "output_type": "stream",
     "text": [
      "roadman\n"
     ]
    }
   ],
   "source": [
    "num = 5     \n",
    "if num == 3:            # 判断num的值\n",
    "    print ('boss')        \n",
    "elif num == 2:\n",
    "    print ('user')\n",
    "elif num == 1:\n",
    "    print ('worker')\n",
    "elif num < 0:           # 值小于零时输出\n",
    "    print ('error')\n",
    "else:\n",
    "    print ('roadman')     # 条件均不成立时输出"
   ]
  },
  {
   "cell_type": "code",
   "execution_count": 25,
   "metadata": {},
   "outputs": [
    {
     "name": "stdout",
     "output_type": "stream",
     "text": [
      "hello\n",
      "undefine\n",
      "undefine\n"
     ]
    }
   ],
   "source": [
    "num = 9\n",
    "if num >= 0 and num <= 10:    # 判断值是否在0~10之间\n",
    "    print ('hello')\n",
    "\n",
    "num = 10\n",
    "if num < 0 or num > 10:    # 判断值是否在小于0或大于10\n",
    "    print ('hello')\n",
    "else:\n",
    "    print ('undefine')\n",
    "\n",
    "num = 8\n",
    "# 判断值是否在0~5或者10~15之间\n",
    "if (num >= 0 and num <= 5) or (num >= 10 and num <= 15):    \n",
    "    print ('hello')\n",
    "else:\n",
    "    print ('undefine')"
   ]
  },
  {
   "cell_type": "markdown",
   "metadata": {},
   "source": [
    "# Python循环语句"
   ]
  },
  {
   "cell_type": "markdown",
   "metadata": {},
   "source": [
    "## Python 提供了 for 循环和 while 循环"
   ]
  },
  {
   "cell_type": "markdown",
   "metadata": {},
   "source": [
    "## Python While 循环语句"
   ]
  },
  {
   "cell_type": "markdown",
   "metadata": {},
   "source": [
    "### Python 编程中 while 语句用于循环执行程序，即在某条件下，循环执行某段程序，以处理需要重复处理的相同任务。"
   ]
  },
  {
   "cell_type": "code",
   "execution_count": 26,
   "metadata": {},
   "outputs": [
    {
     "name": "stdout",
     "output_type": "stream",
     "text": [
      "The count is: 0\n",
      "The count is: 1\n",
      "The count is: 2\n",
      "The count is: 3\n",
      "The count is: 4\n",
      "The count is: 5\n",
      "The count is: 6\n",
      "The count is: 7\n",
      "The count is: 8\n",
      "Good bye!\n"
     ]
    }
   ],
   "source": [
    "count = 0\n",
    "while (count < 9):\n",
    "    print ('The count is:', count)\n",
    "    count = count + 1\n",
    "\n",
    "print (\"Good bye!\")"
   ]
  },
  {
   "cell_type": "code",
   "execution_count": 27,
   "metadata": {},
   "outputs": [
    {
     "name": "stdout",
     "output_type": "stream",
     "text": [
      "0  is  less than 5\n",
      "1  is  less than 5\n",
      "2  is  less than 5\n",
      "3  is  less than 5\n",
      "4  is  less than 5\n",
      "5  is not less than 5\n"
     ]
    }
   ],
   "source": [
    "count = 0\n",
    "while count < 5:\n",
    "    print (count, \" is  less than 5\")\n",
    "    count = count + 1\n",
    "else:\n",
    "    print (count, \" is not less than 5\")"
   ]
  },
  {
   "cell_type": "markdown",
   "metadata": {},
   "source": [
    "## Python for 循环语句"
   ]
  },
  {
   "cell_type": "code",
   "execution_count": 29,
   "metadata": {
    "scrolled": true
   },
   "outputs": [
    {
     "name": "stdout",
     "output_type": "stream",
     "text": [
      "当前水果 : banana\n",
      "当前水果 : apple\n",
      "当前水果 : mango\n",
      "Good bye!\n"
     ]
    }
   ],
   "source": [
    "fruits = ['banana', 'apple',  'mango']\n",
    "for index in range(len(fruits)):\n",
    "    print ('当前水果 :', fruits[index])\n",
    "print (\"Good bye!\")"
   ]
  },
  {
   "cell_type": "markdown",
   "metadata": {},
   "source": [
    "## Python 循环嵌套"
   ]
  },
  {
   "cell_type": "code",
   "execution_count": 32,
   "metadata": {},
   "outputs": [
    {
     "name": "stdout",
     "output_type": "stream",
     "text": [
      "[2, 3, 5, 7, 11, 13, 17, 19, 23, 29, 31, 37, 41, 43, 47, 53, 59, 61, 67, 71, 73, 79, 83, 89, 97]\n",
      "Good bye!\n"
     ]
    }
   ],
   "source": [
    "num=[];\n",
    "i=2\n",
    "for i in range(2,100):\n",
    "    j=2\n",
    "    for j in range(2,i):\n",
    "        if(i%j==0):\n",
    "            break\n",
    "    else:\n",
    "        num.append(i)\n",
    "print(num)\n",
    "print (\"Good bye!\")"
   ]
  },
  {
   "cell_type": "markdown",
   "metadata": {},
   "source": [
    "## Python break 语句"
   ]
  },
  {
   "cell_type": "code",
   "execution_count": 36,
   "metadata": {},
   "outputs": [
    {
     "name": "stdout",
     "output_type": "stream",
     "text": [
      "当前字母 : P\n",
      "当前字母 : y\n",
      "当前字母 : t\n"
     ]
    }
   ],
   "source": [
    "for letter in 'Python':     \n",
    "    if letter == 'h':\n",
    "        break\n",
    "    print ('当前字母 :', letter)"
   ]
  },
  {
   "cell_type": "markdown",
   "metadata": {},
   "source": [
    "## Python continue 语句"
   ]
  },
  {
   "cell_type": "markdown",
   "metadata": {},
   "source": [
    "### Python continue 语句跳出本次循环，而break跳出整个循环。"
   ]
  },
  {
   "cell_type": "code",
   "execution_count": 37,
   "metadata": {},
   "outputs": [
    {
     "name": "stdout",
     "output_type": "stream",
     "text": [
      "当前字母 : P\n",
      "当前字母 : y\n",
      "当前字母 : t\n",
      "当前字母 : o\n",
      "当前字母 : n\n"
     ]
    }
   ],
   "source": [
    "for letter in 'Python':     \n",
    "    if letter == 'h':\n",
    "        continue\n",
    "    print ('当前字母 :', letter)"
   ]
  },
  {
   "cell_type": "markdown",
   "metadata": {},
   "source": [
    "## Python pass 语句"
   ]
  },
  {
   "cell_type": "markdown",
   "metadata": {},
   "source": [
    "### Python pass 是空语句，是为了保持程序结构的完整性。\n",
    "### pass 不做任何事情，一般用做占位语句。"
   ]
  },
  {
   "cell_type": "code",
   "execution_count": 39,
   "metadata": {},
   "outputs": [
    {
     "name": "stdout",
     "output_type": "stream",
     "text": [
      "当前字母 : P\n",
      "当前字母 : y\n",
      "当前字母 : t\n",
      "这是 pass 块\n",
      "当前字母 : h\n",
      "当前字母 : o\n",
      "当前字母 : n\n",
      "Good bye!\n"
     ]
    }
   ],
   "source": [
    "# 输出 Python 的每个字母\n",
    "for letter in 'Python':\n",
    "    if letter == 'h':\n",
    "        pass\n",
    "        print ('这是 pass 块')\n",
    "    print ('当前字母 :', letter)\n",
    "\n",
    "print (\"Good bye!\")"
   ]
  },
  {
   "cell_type": "markdown",
   "metadata": {},
   "source": [
    "# Python应用实例(链家二手房数据分析）"
   ]
  },
  {
   "cell_type": "markdown",
   "metadata": {},
   "source": [
    "## 一、根据上海的部分二手房信息，从多角度进行观察和分析房价与哪些因素有关以及房屋不同状况所占比例\n",
    "## 二、先对数据进行预处理、构造预测房价的模型、并输入参数对房价进行预测\n",
    "备注：数据来源CSDN下载。上海链家二手房.csv.因文件读入问题，改名为sh.csv"
   ]
  },
  {
   "cell_type": "markdown",
   "metadata": {},
   "source": [
    "## 一、导入数据 对数据进行一些简单的预处理"
   ]
  },
  {
   "cell_type": "code",
   "execution_count": 56,
   "metadata": {},
   "outputs": [],
   "source": [
    "#导入需要用到的包\n",
    "import pandas as pd\n",
    "import numpy as np\n",
    "import seaborn as sns\n",
    "import matplotlib as mpl\n",
    "import matplotlib.pyplot as plt\n",
    "from IPython.display import display\n",
    "sns.set_style({'font.sans-serif':['simhei','Arial']})\n",
    "%matplotlib inline"
   ]
  },
  {
   "cell_type": "code",
   "execution_count": 84,
   "metadata": {},
   "outputs": [
    {
     "data": {
      "text/html": [
       "<div>\n",
       "<style scoped>\n",
       "    .dataframe tbody tr th:only-of-type {\n",
       "        vertical-align: middle;\n",
       "    }\n",
       "\n",
       "    .dataframe tbody tr th {\n",
       "        vertical-align: top;\n",
       "    }\n",
       "\n",
       "    .dataframe thead th {\n",
       "        text-align: right;\n",
       "    }\n",
       "</style>\n",
       "<table border=\"1\" class=\"dataframe\">\n",
       "  <thead>\n",
       "    <tr style=\"text-align: right;\">\n",
       "      <th></th>\n",
       "      <th>house_title</th>\n",
       "      <th>house_img</th>\n",
       "      <th>s_cate_href</th>\n",
       "      <th>house_desc</th>\n",
       "      <th>zone_href</th>\n",
       "      <th>district</th>\n",
       "      <th>house_detail</th>\n",
       "      <th>house_price</th>\n",
       "      <th>house_href</th>\n",
       "      <th>s_cate</th>\n",
       "      <th>singel_price</th>\n",
       "      <th>house_time</th>\n",
       "    </tr>\n",
       "  </thead>\n",
       "  <tbody>\n",
       "    <tr>\n",
       "      <td>0</td>\n",
       "      <td>卧室带阳台，卧室全南，地铁房，低区出入方便</td>\n",
       "      <td>http://cdn1.dooioo.com/fetch/vp/fy/gi/20170305...</td>\n",
       "      <td>http://sh.lianjia.com/ershoufang/quyang</td>\n",
       "      <td>1室0厅|37.6平|低区/6层|朝南</td>\n",
       "      <td>http://sh.lianjia.com/ershoufang/hongkou</td>\n",
       "      <td>虹口二手房</td>\n",
       "      <td>大二小区</td>\n",
       "      <td>250</td>\n",
       "      <td>http://sh.lianjia.com/ershoufang/sh4534309.html</td>\n",
       "      <td>曲阳</td>\n",
       "      <td>单价66489元/平</td>\n",
       "      <td>1985年建</td>\n",
       "    </tr>\n",
       "  </tbody>\n",
       "</table>\n",
       "</div>"
      ],
      "text/plain": [
       "             house_title                                          house_img  \\\n",
       "0  卧室带阳台，卧室全南，地铁房，低区出入方便  http://cdn1.dooioo.com/fetch/vp/fy/gi/20170305...   \n",
       "\n",
       "                               s_cate_href           house_desc  \\\n",
       "0  http://sh.lianjia.com/ershoufang/quyang  1室0厅|37.6平|低区/6层|朝南   \n",
       "\n",
       "                                  zone_href district house_detail  \\\n",
       "0  http://sh.lianjia.com/ershoufang/hongkou    虹口二手房         大二小区   \n",
       "\n",
       "   house_price                                       house_href s_cate  \\\n",
       "0          250  http://sh.lianjia.com/ershoufang/sh4534309.html     曲阳   \n",
       "\n",
       "  singel_price house_time  \n",
       "0   单价66489元/平     1985年建  "
      ]
     },
     "execution_count": 84,
     "metadata": {},
     "output_type": "execute_result"
    }
   ],
   "source": [
    "shanghai=pd.read_csv('sh.csv')# 将已有数据导进来\n",
    "shanghai.head(n=1)#显示第一行数据 查看数据是否导入成功"
   ]
  },
  {
   "cell_type": "markdown",
   "metadata": {},
   "source": [
    "### 每项数据类型均为object 不方便处理，需要对一些项删除单位转换为int或者float类型\n",
    "### 有些列冗余 像house_img需要删除\n",
    "### 有些列 如何house_desc包含多种信息 需要逐个提出来单独处理"
   ]
  },
  {
   "cell_type": "code",
   "execution_count": 85,
   "metadata": {},
   "outputs": [
    {
     "data": {
      "text/html": [
       "<div>\n",
       "<style scoped>\n",
       "    .dataframe tbody tr th:only-of-type {\n",
       "        vertical-align: middle;\n",
       "    }\n",
       "\n",
       "    .dataframe tbody tr th {\n",
       "        vertical-align: top;\n",
       "    }\n",
       "\n",
       "    .dataframe thead th {\n",
       "        text-align: right;\n",
       "    }\n",
       "</style>\n",
       "<table border=\"1\" class=\"dataframe\">\n",
       "  <thead>\n",
       "    <tr style=\"text-align: right;\">\n",
       "      <th></th>\n",
       "      <th>house_price</th>\n",
       "    </tr>\n",
       "  </thead>\n",
       "  <tbody>\n",
       "    <tr>\n",
       "      <td>count</td>\n",
       "      <td>73316.000000</td>\n",
       "    </tr>\n",
       "    <tr>\n",
       "      <td>mean</td>\n",
       "      <td>557.255415</td>\n",
       "    </tr>\n",
       "    <tr>\n",
       "      <td>std</td>\n",
       "      <td>563.623966</td>\n",
       "    </tr>\n",
       "    <tr>\n",
       "      <td>min</td>\n",
       "      <td>48.000000</td>\n",
       "    </tr>\n",
       "    <tr>\n",
       "      <td>25%</td>\n",
       "      <td>290.000000</td>\n",
       "    </tr>\n",
       "    <tr>\n",
       "      <td>50%</td>\n",
       "      <td>400.000000</td>\n",
       "    </tr>\n",
       "    <tr>\n",
       "      <td>75%</td>\n",
       "      <td>630.000000</td>\n",
       "    </tr>\n",
       "    <tr>\n",
       "      <td>max</td>\n",
       "      <td>35000.000000</td>\n",
       "    </tr>\n",
       "  </tbody>\n",
       "</table>\n",
       "</div>"
      ],
      "text/plain": [
       "        house_price\n",
       "count  73316.000000\n",
       "mean     557.255415\n",
       "std      563.623966\n",
       "min       48.000000\n",
       "25%      290.000000\n",
       "50%      400.000000\n",
       "75%      630.000000\n",
       "max    35000.000000"
      ]
     },
     "execution_count": 85,
     "metadata": {},
     "output_type": "execute_result"
    }
   ],
   "source": [
    "shanghai.describe()"
   ]
  },
  {
   "cell_type": "code",
   "execution_count": 86,
   "metadata": {},
   "outputs": [
    {
     "name": "stdout",
     "output_type": "stream",
     "text": [
      "<class 'pandas.core.frame.DataFrame'>\n",
      "RangeIndex: 73316 entries, 0 to 73315\n",
      "Data columns (total 12 columns):\n",
      "house_title     73314 non-null object\n",
      "house_img       70428 non-null object\n",
      "s_cate_href     73316 non-null object\n",
      "house_desc      73316 non-null object\n",
      "zone_href       73316 non-null object\n",
      "district        73316 non-null object\n",
      "house_detail    73316 non-null object\n",
      "house_price     73316 non-null int64\n",
      "house_href      73316 non-null object\n",
      "s_cate          73316 non-null object\n",
      "singel_price    73316 non-null object\n",
      "house_time      70515 non-null object\n",
      "dtypes: int64(1), object(11)\n",
      "memory usage: 6.7+ MB\n"
     ]
    }
   ],
   "source": [
    "# 检查缺失值情况\n",
    "shanghai.info()\n",
    "#np.isnan(shanghai).any()"
   ]
  },
  {
   "cell_type": "code",
   "execution_count": 87,
   "metadata": {},
   "outputs": [],
   "source": [
    "shanghai.dropna(inplace=True)\n",
    "#数据处理 删除带有NAN项的行"
   ]
  },
  {
   "cell_type": "code",
   "execution_count": 88,
   "metadata": {},
   "outputs": [
    {
     "data": {
      "text/plain": [
       "'1室0厅|37.6平|低区/6层|朝南'"
      ]
     },
     "execution_count": 88,
     "metadata": {},
     "output_type": "execute_result"
    }
   ],
   "source": [
    "df=shanghai.copy()\n",
    "house_desc=df['house_desc']\n",
    "house_desc[0]"
   ]
  },
  {
   "cell_type": "markdown",
   "metadata": {},
   "source": [
    "### house_desc 中带有 室厅的信息 房子面积 楼层 朝向信息 需要分别提出来当一列 下面进行提取"
   ]
  },
  {
   "cell_type": "code",
   "execution_count": 89,
   "metadata": {},
   "outputs": [
    {
     "data": {
      "text/html": [
       "<div>\n",
       "<style scoped>\n",
       "    .dataframe tbody tr th:only-of-type {\n",
       "        vertical-align: middle;\n",
       "    }\n",
       "\n",
       "    .dataframe tbody tr th {\n",
       "        vertical-align: top;\n",
       "    }\n",
       "\n",
       "    .dataframe thead th {\n",
       "        text-align: right;\n",
       "    }\n",
       "</style>\n",
       "<table border=\"1\" class=\"dataframe\">\n",
       "  <thead>\n",
       "    <tr style=\"text-align: right;\">\n",
       "      <th></th>\n",
       "      <th>house_title</th>\n",
       "      <th>house_img</th>\n",
       "      <th>s_cate_href</th>\n",
       "      <th>house_desc</th>\n",
       "      <th>zone_href</th>\n",
       "      <th>district</th>\n",
       "      <th>house_detail</th>\n",
       "      <th>house_price</th>\n",
       "      <th>house_href</th>\n",
       "      <th>s_cate</th>\n",
       "      <th>singel_price</th>\n",
       "      <th>house_time</th>\n",
       "      <th>layout</th>\n",
       "      <th>area</th>\n",
       "      <th>temp</th>\n",
       "      <th>floor</th>\n",
       "    </tr>\n",
       "  </thead>\n",
       "  <tbody>\n",
       "    <tr>\n",
       "      <td>0</td>\n",
       "      <td>卧室带阳台，卧室全南，地铁房，低区出入方便</td>\n",
       "      <td>http://cdn1.dooioo.com/fetch/vp/fy/gi/20170305...</td>\n",
       "      <td>http://sh.lianjia.com/ershoufang/quyang</td>\n",
       "      <td>1室0厅|37.6平|低区/6层|朝南</td>\n",
       "      <td>http://sh.lianjia.com/ershoufang/hongkou</td>\n",
       "      <td>虹口二手房</td>\n",
       "      <td>大二小区</td>\n",
       "      <td>250</td>\n",
       "      <td>http://sh.lianjia.com/ershoufang/sh4534309.html</td>\n",
       "      <td>曲阳</td>\n",
       "      <td>单价66489元/平</td>\n",
       "      <td>1985年建</td>\n",
       "      <td>1室0厅</td>\n",
       "      <td>37.6平</td>\n",
       "      <td>低区/6层</td>\n",
       "      <td>低区</td>\n",
       "    </tr>\n",
       "  </tbody>\n",
       "</table>\n",
       "</div>"
      ],
      "text/plain": [
       "             house_title                                          house_img  \\\n",
       "0  卧室带阳台，卧室全南，地铁房，低区出入方便  http://cdn1.dooioo.com/fetch/vp/fy/gi/20170305...   \n",
       "\n",
       "                               s_cate_href           house_desc  \\\n",
       "0  http://sh.lianjia.com/ershoufang/quyang  1室0厅|37.6平|低区/6层|朝南   \n",
       "\n",
       "                                  zone_href district house_detail  \\\n",
       "0  http://sh.lianjia.com/ershoufang/hongkou    虹口二手房         大二小区   \n",
       "\n",
       "   house_price                                       house_href s_cate  \\\n",
       "0          250  http://sh.lianjia.com/ershoufang/sh4534309.html     曲阳   \n",
       "\n",
       "  singel_price house_time layout   area   temp floor  \n",
       "0   单价66489元/平     1985年建   1室0厅  37.6平  低区/6层    低区  "
      ]
     },
     "execution_count": 89,
     "metadata": {},
     "output_type": "execute_result"
    }
   ],
   "source": [
    "df['layout']=df['house_desc'].map(lambda x:x.split('|')[0])\n",
    "df['area']=df['house_desc'].map(lambda x:x.split('|')[1])\n",
    "df['temp']=df['house_desc'].map(lambda x:x.split('|')[2])\n",
    "#df['Dirextion']=df['house_desc'].map(lambda x:x.split('|')[3])\n",
    "df['floor']=df['temp'].map(lambda x:x.split('/')[0])\n",
    "df.head(n=1)"
   ]
  },
  {
   "cell_type": "markdown",
   "metadata": {},
   "source": [
    "### 一些列中带有单位 不利于后期处理 去掉单位 并把数据类型转换为float或int"
   ]
  },
  {
   "cell_type": "code",
   "execution_count": 90,
   "metadata": {},
   "outputs": [
    {
     "data": {
      "text/html": [
       "<div>\n",
       "<style scoped>\n",
       "    .dataframe tbody tr th:only-of-type {\n",
       "        vertical-align: middle;\n",
       "    }\n",
       "\n",
       "    .dataframe tbody tr th {\n",
       "        vertical-align: top;\n",
       "    }\n",
       "\n",
       "    .dataframe thead th {\n",
       "        text-align: right;\n",
       "    }\n",
       "</style>\n",
       "<table border=\"1\" class=\"dataframe\">\n",
       "  <thead>\n",
       "    <tr style=\"text-align: right;\">\n",
       "      <th></th>\n",
       "      <th>house_title</th>\n",
       "      <th>house_img</th>\n",
       "      <th>s_cate_href</th>\n",
       "      <th>house_desc</th>\n",
       "      <th>zone_href</th>\n",
       "      <th>district</th>\n",
       "      <th>house_detail</th>\n",
       "      <th>house_price</th>\n",
       "      <th>house_href</th>\n",
       "      <th>s_cate</th>\n",
       "      <th>singel_price</th>\n",
       "      <th>house_time</th>\n",
       "      <th>layout</th>\n",
       "      <th>area</th>\n",
       "      <th>temp</th>\n",
       "      <th>floor</th>\n",
       "    </tr>\n",
       "  </thead>\n",
       "  <tbody>\n",
       "    <tr>\n",
       "      <td>0</td>\n",
       "      <td>卧室带阳台，卧室全南，地铁房，低区出入方便</td>\n",
       "      <td>http://cdn1.dooioo.com/fetch/vp/fy/gi/20170305...</td>\n",
       "      <td>http://sh.lianjia.com/ershoufang/quyang</td>\n",
       "      <td>1室0厅|37.6平|低区/6层|朝南</td>\n",
       "      <td>http://sh.lianjia.com/ershoufang/hongkou</td>\n",
       "      <td>虹口</td>\n",
       "      <td>大二小区</td>\n",
       "      <td>250</td>\n",
       "      <td>http://sh.lianjia.com/ershoufang/sh4534309.html</td>\n",
       "      <td>曲阳</td>\n",
       "      <td>66489</td>\n",
       "      <td>1985</td>\n",
       "      <td>1室0厅</td>\n",
       "      <td>37.6</td>\n",
       "      <td>低区/6层</td>\n",
       "      <td>低区</td>\n",
       "    </tr>\n",
       "  </tbody>\n",
       "</table>\n",
       "</div>"
      ],
      "text/plain": [
       "             house_title                                          house_img  \\\n",
       "0  卧室带阳台，卧室全南，地铁房，低区出入方便  http://cdn1.dooioo.com/fetch/vp/fy/gi/20170305...   \n",
       "\n",
       "                               s_cate_href           house_desc  \\\n",
       "0  http://sh.lianjia.com/ershoufang/quyang  1室0厅|37.6平|低区/6层|朝南   \n",
       "\n",
       "                                  zone_href district house_detail  \\\n",
       "0  http://sh.lianjia.com/ershoufang/hongkou       虹口         大二小区   \n",
       "\n",
       "   house_price                                       house_href s_cate  \\\n",
       "0          250  http://sh.lianjia.com/ershoufang/sh4534309.html     曲阳   \n",
       "\n",
       "  singel_price house_time layout  area   temp floor  \n",
       "0        66489       1985   1室0厅  37.6  低区/6层    低区  "
      ]
     },
     "execution_count": 90,
     "metadata": {},
     "output_type": "execute_result"
    }
   ],
   "source": [
    "df['area']=df['area'].apply(lambda x:x.rstrip('平'))\n",
    "df['singel_price']=df['singel_price'].apply(lambda x:x.rstrip('元/平'))\n",
    "df['singel_price']=df['singel_price'].apply(lambda x:x.lstrip('单价'))\n",
    "df['district']=df['district'].apply(lambda x:x.rstrip('二手房'))\n",
    "df['house_time']=df['house_time'].apply(lambda x:str(x))\n",
    "df['house_time']=df['house_time'].apply(lambda x:x.rstrip('年建'))\n",
    "df.head(n=1)"
   ]
  },
  {
   "cell_type": "markdown",
   "metadata": {},
   "source": [
    "### 删除一些不需要用到的列 以及 house_desc、temp"
   ]
  },
  {
   "cell_type": "code",
   "execution_count": 91,
   "metadata": {},
   "outputs": [],
   "source": [
    "del df['house_img']\n",
    "del df['s_cate_href']\n",
    "del df['house_desc']\n",
    "del df['zone_href']\n",
    "del df['house_href']\n",
    "del df['temp']"
   ]
  },
  {
   "cell_type": "markdown",
   "metadata": {},
   "source": [
    "### 根据房子总价和房子面积 计算房子每平方米的价格\n",
    "### 从house_title 描述房子信息中提取关键词。若带有 交通便利、地铁则认为其交通方便，否则交通不便"
   ]
  },
  {
   "cell_type": "code",
   "execution_count": 92,
   "metadata": {},
   "outputs": [
    {
     "data": {
      "text/html": [
       "<div>\n",
       "<style scoped>\n",
       "    .dataframe tbody tr th:only-of-type {\n",
       "        vertical-align: middle;\n",
       "    }\n",
       "\n",
       "    .dataframe tbody tr th {\n",
       "        vertical-align: top;\n",
       "    }\n",
       "\n",
       "    .dataframe thead th {\n",
       "        text-align: right;\n",
       "    }\n",
       "</style>\n",
       "<table border=\"1\" class=\"dataframe\">\n",
       "  <thead>\n",
       "    <tr style=\"text-align: right;\">\n",
       "      <th></th>\n",
       "      <th>house_title</th>\n",
       "      <th>district</th>\n",
       "      <th>house_detail</th>\n",
       "      <th>house_price</th>\n",
       "      <th>s_cate</th>\n",
       "      <th>singel_price</th>\n",
       "      <th>house_time</th>\n",
       "      <th>layout</th>\n",
       "      <th>area</th>\n",
       "      <th>floor</th>\n",
       "      <th>trafic</th>\n",
       "    </tr>\n",
       "  </thead>\n",
       "  <tbody>\n",
       "    <tr>\n",
       "      <td>0</td>\n",
       "      <td>卧室带阳台，卧室全南，地铁房，低区出入方便</td>\n",
       "      <td>虹口</td>\n",
       "      <td>大二小区</td>\n",
       "      <td>250</td>\n",
       "      <td>曲阳</td>\n",
       "      <td>66489.0</td>\n",
       "      <td>1985</td>\n",
       "      <td>1室0厅</td>\n",
       "      <td>37.6</td>\n",
       "      <td>低区</td>\n",
       "      <td>交通便利</td>\n",
       "    </tr>\n",
       "  </tbody>\n",
       "</table>\n",
       "</div>"
      ],
      "text/plain": [
       "             house_title district house_detail  house_price s_cate  \\\n",
       "0  卧室带阳台，卧室全南，地铁房，低区出入方便       虹口         大二小区          250     曲阳   \n",
       "\n",
       "   singel_price house_time layout  area floor trafic  \n",
       "0       66489.0       1985   1室0厅  37.6    低区   交通便利  "
      ]
     },
     "execution_count": 92,
     "metadata": {},
     "output_type": "execute_result"
    }
   ],
   "source": [
    "df.head(n=1)\n",
    "df['singel_price']=df['singel_price'].apply(lambda x:float(x))\n",
    "df['area']=df['area'].apply(lambda x:float(x))\n",
    "df.head(n=1)\n",
    "df.head(n=1)\n",
    "df['house_title']=df['house_title'].apply(lambda x:str(x))\n",
    "df['trafic']=df['house_title'].apply(lambda x:'交通便利' if x.find(\"交通便利\")>=0 or x.find(\"地铁\")>=0 else \"交通不便\"  )\n",
    "df.head(n=1)"
   ]
  },
  {
   "cell_type": "markdown",
   "metadata": {},
   "source": [
    "## 二、根据各列信息 用可视化的形式展现 房价与不同因素如地区、房子面积、所在楼层等之间的关系"
   ]
  },
  {
   "cell_type": "code",
   "execution_count": 93,
   "metadata": {},
   "outputs": [
    {
     "data": {
      "image/png": "[encoded data removed]",
      "text/plain": [
       "<Figure size 1440x1080 with 3 Axes>"
      ]
     },
     "metadata": {
      "needs_background": "light"
     },
     "output_type": "display_data"
    }
   ],
   "source": [
    "df_house_count = df.groupby('district')['house_price'].count().sort_values(ascending=False).to_frame().reset_index()\n",
    "df_house_mean = df.groupby('district')['singel_price'].mean().sort_values(ascending=False).to_frame().reset_index()\n",
    "\n",
    "f, [ax1,ax2,ax3] = plt.subplots(3,1,figsize=(20,15))\n",
    "sns.barplot(x='district', y='singel_price', palette=\"Reds_d\", data=df_house_mean, ax=ax1)\n",
    "ax1.set_title('上海各大区二手房每平米单价对比',fontsize=15)\n",
    "ax1.set_xlabel('区域')\n",
    "ax1.set_ylabel('每平米单价')\n",
    "sns.countplot(df['district'], ax=ax2)\n",
    "sns.boxplot(x='district', y='house_price', data=df, ax=ax3)\n",
    "ax3.set_title('上海各大区二手房房屋总价',fontsize=15)\n",
    "ax3.set_xlabel('区域')\n",
    "ax3.set_ylabel('房屋总价')\n",
    "plt.show()"
   ]
  },
  {
   "cell_type": "markdown",
   "metadata": {},
   "source": [
    "###  上面三幅图显示了 房子单价、总数量、总价与地区之间的关系。\n",
    "#### 由上面第一幅图可以看到房子单价与地区有关，其中黄浦以及静安地区房价最高。这与地区的发展水平、交通便利程度以及离市中心远近程度有关\n",
    "#### 由上面第二幅图可以直接看出不同地区的二手房数量，其中浦东最多\n",
    "#### 由上面第三幅图可以看出上海二手房房价基本在一千万上下，很少有高于两千万的"
   ]
  },
  {
   "cell_type": "code",
   "execution_count": 94,
   "metadata": {},
   "outputs": [
    {
     "data": {
      "image/png": "[encoded data removed]",
      "text/plain": [
       "<Figure size 1080x360 with 2 Axes>"
      ]
     },
     "metadata": {
      "needs_background": "light"
     },
     "output_type": "display_data"
    }
   ],
   "source": [
    "f, [ax1,ax2] = plt.subplots(1, 2, figsize=(15, 5))\n",
    "# 二手房的面积分布\n",
    "sns.distplot(df['area'], bins=20, ax=ax1, color='r')\n",
    "sns.kdeplot(df['area'], shade=True, ax=ax1)\n",
    "# 二手房面积和价位的关系\n",
    "sns.regplot(x='area', y='house_price', data=df, ax=ax2)\n",
    "plt.show()"
   ]
  },
  {
   "cell_type": "markdown",
   "metadata": {},
   "source": [
    "### 由从左到右第一幅图可以看出 基本二手房面积在60-200平方米之间，其中一百平方米左右的占比更大\n",
    "### 由第二幅看出，二手房总结与二手房面积基本成正比，和我们的常识吻合"
   ]
  },
  {
   "cell_type": "code",
   "execution_count": 95,
   "metadata": {},
   "outputs": [
    {
     "data": {
      "image/png": "[encoded data removed]",
      "text/plain": [
       "<Figure size 432x288 with 1 Axes>"
      ]
     },
     "metadata": {},
     "output_type": "display_data"
    }
   ],
   "source": [
    "areas=[len(df[df.area<100]),len(df[(df.area>100)&(df.area<200)]),len(df[df.area>200])]\n",
    "labels=['area<100' , '100<area<200','area>200']\n",
    "plt.pie(areas,labels= labels,autopct='%0f%%',shadow=True)\n",
    "plt.show()\n",
    "# 绘制饼图"
   ]
  },
  {
   "cell_type": "markdown",
   "metadata": {},
   "source": [
    "### 将面积划分为三个档次，面积大于200、面积小与100、面积在一百到两百之间 三者的占比情况可以发现 百分之六十九的房子面积在一百平方米一下，高于一百大于200的只有百分之二十五而面积大于两百的只有百分之四"
   ]
  },
  {
   "cell_type": "code",
   "execution_count": 96,
   "metadata": {},
   "outputs": [
    {
     "data": {
      "text/html": [
       "<div>\n",
       "<style scoped>\n",
       "    .dataframe tbody tr th:only-of-type {\n",
       "        vertical-align: middle;\n",
       "    }\n",
       "\n",
       "    .dataframe tbody tr th {\n",
       "        vertical-align: top;\n",
       "    }\n",
       "\n",
       "    .dataframe thead th {\n",
       "        text-align: right;\n",
       "    }\n",
       "</style>\n",
       "<table border=\"1\" class=\"dataframe\">\n",
       "  <thead>\n",
       "    <tr style=\"text-align: right;\">\n",
       "      <th></th>\n",
       "      <th>house_title</th>\n",
       "      <th>district</th>\n",
       "      <th>house_detail</th>\n",
       "      <th>house_price</th>\n",
       "      <th>s_cate</th>\n",
       "      <th>singel_price</th>\n",
       "      <th>house_time</th>\n",
       "      <th>layout</th>\n",
       "      <th>area</th>\n",
       "      <th>floor</th>\n",
       "      <th>trafic</th>\n",
       "    </tr>\n",
       "  </thead>\n",
       "  <tbody>\n",
       "    <tr>\n",
       "      <td>2704</td>\n",
       "      <td>洪中路138号，简单装修，高清实拍，链家好房</td>\n",
       "      <td>奉贤</td>\n",
       "      <td>洪中路138号</td>\n",
       "      <td>3500</td>\n",
       "      <td>奉城</td>\n",
       "      <td>7628.0</td>\n",
       "      <td>2003</td>\n",
       "      <td>6室3厅</td>\n",
       "      <td>4588.00</td>\n",
       "      <td>地上2层</td>\n",
       "      <td>交通不便</td>\n",
       "    </tr>\n",
       "    <tr>\n",
       "      <td>21867</td>\n",
       "      <td>绿城玫瑰园，上门实勘，链家真房源，链家好房</td>\n",
       "      <td>闵行</td>\n",
       "      <td>绿城玫瑰园</td>\n",
       "      <td>26000</td>\n",
       "      <td>马桥</td>\n",
       "      <td>158740.0</td>\n",
       "      <td>2014</td>\n",
       "      <td>6室4厅</td>\n",
       "      <td>1637.89</td>\n",
       "      <td>地上2层</td>\n",
       "      <td>交通不便</td>\n",
       "    </tr>\n",
       "    <tr>\n",
       "      <td>22894</td>\n",
       "      <td>品质装修，满五年，实地看房，上门实拍</td>\n",
       "      <td>闵行</td>\n",
       "      <td>绿城玫瑰园</td>\n",
       "      <td>15000</td>\n",
       "      <td>马桥</td>\n",
       "      <td>97816.0</td>\n",
       "      <td>2007</td>\n",
       "      <td>6室2厅</td>\n",
       "      <td>1533.48</td>\n",
       "      <td>地上2层</td>\n",
       "      <td>交通不便</td>\n",
       "    </tr>\n",
       "    <tr>\n",
       "      <td>35871</td>\n",
       "      <td>南北通，出行方便，拎包入住，满5年</td>\n",
       "      <td>松江</td>\n",
       "      <td>佘山高尔夫郡</td>\n",
       "      <td>9000</td>\n",
       "      <td>佘山</td>\n",
       "      <td>89982.0</td>\n",
       "      <td>2005</td>\n",
       "      <td>5室4厅</td>\n",
       "      <td>1000.20</td>\n",
       "      <td>地上2层地下1层</td>\n",
       "      <td>交通不便</td>\n",
       "    </tr>\n",
       "    <tr>\n",
       "      <td>37165</td>\n",
       "      <td>毛坯房，满五年，实地看房，上门实拍</td>\n",
       "      <td>松江</td>\n",
       "      <td>世茂佘山庄园</td>\n",
       "      <td>35000</td>\n",
       "      <td>佘山</td>\n",
       "      <td>191889.0</td>\n",
       "      <td>2008</td>\n",
       "      <td>6室3厅</td>\n",
       "      <td>1823.97</td>\n",
       "      <td>地上2层</td>\n",
       "      <td>交通不便</td>\n",
       "    </tr>\n",
       "    <tr>\n",
       "      <td>38986</td>\n",
       "      <td>世茂佘山庄园，毛坯房，房本满五年，高清实拍</td>\n",
       "      <td>松江</td>\n",
       "      <td>世茂佘山庄园</td>\n",
       "      <td>11000</td>\n",
       "      <td>佘山</td>\n",
       "      <td>104961.0</td>\n",
       "      <td>2007</td>\n",
       "      <td>5室3厅</td>\n",
       "      <td>1048.00</td>\n",
       "      <td>地上2层</td>\n",
       "      <td>交通不便</td>\n",
       "    </tr>\n",
       "    <tr>\n",
       "      <td>38993</td>\n",
       "      <td>世茂佘山庄园，满5年，热门带看，高清摄影</td>\n",
       "      <td>松江</td>\n",
       "      <td>世茂佘山庄园</td>\n",
       "      <td>9000</td>\n",
       "      <td>佘山</td>\n",
       "      <td>85714.0</td>\n",
       "      <td>2006</td>\n",
       "      <td>5室3厅</td>\n",
       "      <td>1050.00</td>\n",
       "      <td>地上4层</td>\n",
       "      <td>交通不便</td>\n",
       "    </tr>\n",
       "    <tr>\n",
       "      <td>40015</td>\n",
       "      <td>稀缺南北通，地铁直达，经典装修，满五减税</td>\n",
       "      <td>松江</td>\n",
       "      <td>佘山月湖山庄</td>\n",
       "      <td>3800</td>\n",
       "      <td>佘山</td>\n",
       "      <td>33765.0</td>\n",
       "      <td>2004</td>\n",
       "      <td>7室4厅</td>\n",
       "      <td>1125.40</td>\n",
       "      <td>地上2层</td>\n",
       "      <td>交通便利</td>\n",
       "    </tr>\n",
       "    <tr>\n",
       "      <td>70695</td>\n",
       "      <td>南北通，交通便利，低楼层，装修经典</td>\n",
       "      <td>浦东</td>\n",
       "      <td>浦东星河湾</td>\n",
       "      <td>7200</td>\n",
       "      <td>北蔡</td>\n",
       "      <td>69086.0</td>\n",
       "      <td>2010</td>\n",
       "      <td>8室3厅</td>\n",
       "      <td>1042.17</td>\n",
       "      <td>低区</td>\n",
       "      <td>交通便利</td>\n",
       "    </tr>\n",
       "  </tbody>\n",
       "</table>\n",
       "</div>"
      ],
      "text/plain": [
       "                  house_title district house_detail  house_price s_cate  \\\n",
       "2704   洪中路138号，简单装修，高清实拍，链家好房       奉贤      洪中路138号         3500     奉城   \n",
       "21867   绿城玫瑰园，上门实勘，链家真房源，链家好房       闵行        绿城玫瑰园        26000     马桥   \n",
       "22894      品质装修，满五年，实地看房，上门实拍       闵行        绿城玫瑰园        15000     马桥   \n",
       "35871       南北通，出行方便，拎包入住，满5年       松江       佘山高尔夫郡         9000     佘山   \n",
       "37165       毛坯房，满五年，实地看房，上门实拍       松江       世茂佘山庄园        35000     佘山   \n",
       "38986   世茂佘山庄园，毛坯房，房本满五年，高清实拍       松江       世茂佘山庄园        11000     佘山   \n",
       "38993    世茂佘山庄园，满5年，热门带看，高清摄影       松江       世茂佘山庄园         9000     佘山   \n",
       "40015    稀缺南北通，地铁直达，经典装修，满五减税       松江       佘山月湖山庄         3800     佘山   \n",
       "70695       南北通，交通便利，低楼层，装修经典       浦东        浦东星河湾         7200     北蔡   \n",
       "\n",
       "       singel_price house_time layout     area     floor trafic  \n",
       "2704         7628.0       2003   6室3厅  4588.00      地上2层   交通不便  \n",
       "21867      158740.0       2014   6室4厅  1637.89      地上2层   交通不便  \n",
       "22894       97816.0       2007   6室2厅  1533.48      地上2层   交通不便  \n",
       "35871       89982.0       2005   5室4厅  1000.20  地上2层地下1层   交通不便  \n",
       "37165      191889.0       2008   6室3厅  1823.97      地上2层   交通不便  \n",
       "38986      104961.0       2007   5室3厅  1048.00      地上2层   交通不便  \n",
       "38993       85714.0       2006   5室3厅  1050.00      地上4层   交通不便  \n",
       "40015       33765.0       2004   7室4厅  1125.40      地上2层   交通便利  \n",
       "70695       69086.0       2010   8室3厅  1042.17        低区   交通便利  "
      ]
     },
     "execution_count": 96,
     "metadata": {},
     "output_type": "execute_result"
    }
   ],
   "source": [
    "df.loc[df['area']>1000]\n",
    "# 查看size>1000的样本 发现只有一个是大于1000 "
   ]
  },
  {
   "cell_type": "code",
   "execution_count": 97,
   "metadata": {},
   "outputs": [
    {
     "data": {
      "image/png": "[encoded data removed]",
      "text/plain": [
       "<Figure size 1440x1440 with 1 Axes>"
      ]
     },
     "metadata": {
      "needs_background": "light"
     },
     "output_type": "display_data"
    },
    {
     "data": {
      "image/png": "[encoded data removed]",
      "text/plain": [
       "<Figure size 1440x1440 with 1 Axes>"
      ]
     },
     "metadata": {
      "needs_background": "light"
     },
     "output_type": "display_data"
    }
   ],
   "source": [
    "f, ax1= plt.subplots(figsize=(20,20))\n",
    "sns.countplot(y='layout', data=df, ax=ax1)\n",
    "ax1.set_title('房屋户型',fontsize=15)\n",
    "ax1.set_xlabel('数量')\n",
    "ax1.set_ylabel('户型')\n",
    "f, ax2= plt.subplots(figsize=(20,20))\n",
    "sns.barplot(y='layout', x='house_price', data=df, ax=ax2)\n",
    "plt.show()"
   ]
  },
  {
   "cell_type": "markdown",
   "metadata": {},
   "source": [
    "### 上述两幅图显示了 不同户型的数量和价格\n",
    "#### 由第一幅图看出2室1厅最多 2室2厅 3室2厅也较多 是主流的户型选择 \n",
    "#### 由第二幅看出 室和厅的数量增加随之价格也增加，但是室和厅之间的比例要适合"
   ]
  },
  {
   "cell_type": "code",
   "execution_count": 98,
   "metadata": {},
   "outputs": [
    {
     "data": {
      "image/png": "[encoded data removed]",
      "text/plain": [
       "<Figure size 432x288 with 1 Axes>"
      ]
     },
     "metadata": {},
     "output_type": "display_data"
    }
   ],
   "source": [
    "a1=0\n",
    "a2=0\n",
    "for x in df['trafic']:\n",
    "    \n",
    "    if x=='交通便利':\n",
    "        a1=a1+1\n",
    "    else:\n",
    "        a2=a2+1\n",
    "sizes=[a1,a2]\n",
    "labels=['交通便利' , '交通不便']\n",
    "plt.pie(sizes,labels= labels,autopct='%0f%%',shadow=True)\n",
    "plt.show()"
   ]
  },
  {
   "cell_type": "markdown",
   "metadata": {},
   "source": [
    "#### 上述图显示了上海二手房交通不便利情况。其中百分之六十一为交通不便，百分之三十八为交通不便。由于交通便利情况仅仅是根据对房屋的描述情况提取出来的，实际上 交通便利的占比会更高些"
   ]
  },
  {
   "cell_type": "code",
   "execution_count": 99,
   "metadata": {},
   "outputs": [
    {
     "data": {
      "image/png": "[encoded data removed]",
      "text/plain": [
       "<Figure size 1440x720 with 2 Axes>"
      ]
     },
     "metadata": {
      "needs_background": "light"
     },
     "output_type": "display_data"
    }
   ],
   "source": [
    "f, [ax1,ax2] = plt.subplots(1, 2, figsize=(20, 10))\n",
    "sns.countplot(df['trafic'], ax=ax1)\n",
    "ax1.set_title('交通是否便利数量对比',fontsize=15)\n",
    "ax1.set_xlabel('交通是否便利')\n",
    "ax1.set_ylabel('数量')\n",
    "sns.barplot(x='trafic', y='house_price', data=df, ax=ax2)\n",
    "ax2.set_title('交通是否便利房价对比',fontsize=15)\n",
    "ax2.set_xlabel('交通是否便利')\n",
    "ax2.set_ylabel('总价')\n",
    "\n",
    "plt.show()"
   ]
  },
  {
   "cell_type": "markdown",
   "metadata": {},
   "source": [
    "### 左边那幅图显示了交通便利以及不便的二手房数量，这与我们刚才的饼图信息一致\n",
    "### 右边那幅图显示了交通便利与否与房价的关系。交通便利的房子价格更高"
   ]
  },
  {
   "cell_type": "code",
   "execution_count": 100,
   "metadata": {},
   "outputs": [
    {
     "data": {
      "image/png": "[encoded data removed]",
      "text/plain": [
       "<Figure size 1440x360 with 1 Axes>"
      ]
     },
     "metadata": {
      "needs_background": "light"
     },
     "output_type": "display_data"
    },
    {
     "data": {
      "image/png": "[encoded data removed]",
      "text/plain": [
       "<Figure size 1440x360 with 1 Axes>"
      ]
     },
     "metadata": {
      "needs_background": "light"
     },
     "output_type": "display_data"
    }
   ],
   "source": [
    "f, ax1= plt.subplots(figsize=(20,5))\n",
    "sns.countplot(x='floor', data=df, ax=ax1)\n",
    "ax1.set_title('楼层',fontsize=15)\n",
    "ax1.set_xlabel('楼层数')\n",
    "ax1.set_ylabel('数量')\n",
    "f, ax2 = plt.subplots(figsize=(20, 5))\n",
    "sns.barplot(x='floor', y='house_price', data=df, ax=ax2)\n",
    "ax2.set_title('楼层',fontsize=15)\n",
    "ax2.set_xlabel('楼层数')\n",
    "ax2.set_ylabel('总价')\n",
    "plt.show()"
   ]
  },
  {
   "cell_type": "markdown",
   "metadata": {},
   "source": [
    "#### 楼层（地区、高区、中区、地下几层）与数量、房价的关系。高区、中区、低区居多"
   ]
  },
  {
   "cell_type": "markdown",
   "metadata": {},
   "source": [
    "## 三、根据已有数据建立简单的上海二手房房间预测模型"
   ]
  },
  {
   "cell_type": "markdown",
   "metadata": {},
   "source": [
    "### 对数据再次进行简单的预处理 把户型这列拆成室和厅"
   ]
  },
  {
   "cell_type": "code",
   "execution_count": 101,
   "metadata": {},
   "outputs": [
    {
     "data": {
      "text/html": [
       "<div>\n",
       "<style scoped>\n",
       "    .dataframe tbody tr th:only-of-type {\n",
       "        vertical-align: middle;\n",
       "    }\n",
       "\n",
       "    .dataframe tbody tr th {\n",
       "        vertical-align: top;\n",
       "    }\n",
       "\n",
       "    .dataframe thead th {\n",
       "        text-align: right;\n",
       "    }\n",
       "</style>\n",
       "<table border=\"1\" class=\"dataframe\">\n",
       "  <thead>\n",
       "    <tr style=\"text-align: right;\">\n",
       "      <th></th>\n",
       "      <th>house_title</th>\n",
       "      <th>district</th>\n",
       "      <th>house_detail</th>\n",
       "      <th>house_price</th>\n",
       "      <th>s_cate</th>\n",
       "      <th>singel_price</th>\n",
       "      <th>house_time</th>\n",
       "      <th>area</th>\n",
       "      <th>floor</th>\n",
       "      <th>trafic</th>\n",
       "      <th>室</th>\n",
       "      <th>厅</th>\n",
       "    </tr>\n",
       "  </thead>\n",
       "  <tbody>\n",
       "    <tr>\n",
       "      <td>0</td>\n",
       "      <td>卧室带阳台，卧室全南，地铁房，低区出入方便</td>\n",
       "      <td>虹口</td>\n",
       "      <td>大二小区</td>\n",
       "      <td>250</td>\n",
       "      <td>曲阳</td>\n",
       "      <td>66489.0</td>\n",
       "      <td>1985</td>\n",
       "      <td>37.60</td>\n",
       "      <td>低区</td>\n",
       "      <td>交通便利</td>\n",
       "      <td>1.0</td>\n",
       "      <td>0.0</td>\n",
       "    </tr>\n",
       "    <tr>\n",
       "      <td>1</td>\n",
       "      <td>厨卫全明，卧室带阳台，交通方便，采光好</td>\n",
       "      <td>虹口</td>\n",
       "      <td>西南小区</td>\n",
       "      <td>360</td>\n",
       "      <td>曲阳</td>\n",
       "      <td>69916.0</td>\n",
       "      <td>1982</td>\n",
       "      <td>51.49</td>\n",
       "      <td>高区</td>\n",
       "      <td>交通不便</td>\n",
       "      <td>2.0</td>\n",
       "      <td>1.0</td>\n",
       "    </tr>\n",
       "    <tr>\n",
       "      <td>2</td>\n",
       "      <td>卧室带阳台，卧室全南，交通方便，高区景观好</td>\n",
       "      <td>虹口</td>\n",
       "      <td>西南小区</td>\n",
       "      <td>345</td>\n",
       "      <td>曲阳</td>\n",
       "      <td>77720.0</td>\n",
       "      <td>1982</td>\n",
       "      <td>44.39</td>\n",
       "      <td>高区</td>\n",
       "      <td>交通不便</td>\n",
       "      <td>2.0</td>\n",
       "      <td>1.0</td>\n",
       "    </tr>\n",
       "    <tr>\n",
       "      <td>3</td>\n",
       "      <td>厨卫全明，卧室带阳台，地铁房，上下楼方便</td>\n",
       "      <td>虹口</td>\n",
       "      <td>曲一花苑</td>\n",
       "      <td>445</td>\n",
       "      <td>曲阳</td>\n",
       "      <td>78358.0</td>\n",
       "      <td>1983</td>\n",
       "      <td>56.79</td>\n",
       "      <td>低区</td>\n",
       "      <td>交通便利</td>\n",
       "      <td>2.0</td>\n",
       "      <td>1.0</td>\n",
       "    </tr>\n",
       "    <tr>\n",
       "      <td>4</td>\n",
       "      <td>稀罕南北通，地铁沿线，采光无遮挡，拎包入住</td>\n",
       "      <td>虹口</td>\n",
       "      <td>东体小区</td>\n",
       "      <td>320</td>\n",
       "      <td>曲阳</td>\n",
       "      <td>76812.0</td>\n",
       "      <td>1983</td>\n",
       "      <td>41.66</td>\n",
       "      <td>高区</td>\n",
       "      <td>交通便利</td>\n",
       "      <td>2.0</td>\n",
       "      <td>1.0</td>\n",
       "    </tr>\n",
       "  </tbody>\n",
       "</table>\n",
       "</div>"
      ],
      "text/plain": [
       "             house_title district house_detail  house_price s_cate  \\\n",
       "0  卧室带阳台，卧室全南，地铁房，低区出入方便       虹口         大二小区          250     曲阳   \n",
       "1    厨卫全明，卧室带阳台，交通方便，采光好       虹口         西南小区          360     曲阳   \n",
       "2  卧室带阳台，卧室全南，交通方便，高区景观好       虹口         西南小区          345     曲阳   \n",
       "3   厨卫全明，卧室带阳台，地铁房，上下楼方便       虹口         曲一花苑          445     曲阳   \n",
       "4  稀罕南北通，地铁沿线，采光无遮挡，拎包入住       虹口         东体小区          320     曲阳   \n",
       "\n",
       "   singel_price house_time   area floor trafic    室    厅  \n",
       "0       66489.0       1985  37.60    低区   交通便利  1.0  0.0  \n",
       "1       69916.0       1982  51.49    高区   交通不便  2.0  1.0  \n",
       "2       77720.0       1982  44.39    高区   交通不便  2.0  1.0  \n",
       "3       78358.0       1983  56.79    低区   交通便利  2.0  1.0  \n",
       "4       76812.0       1983  41.66    高区   交通便利  2.0  1.0  "
      ]
     },
     "execution_count": 101,
     "metadata": {},
     "output_type": "execute_result"
    }
   ],
   "source": [
    "df[['室','厅']] = df['layout'].str.extract(r'(\\d+)室(\\d+)厅')\n",
    "df['室'] = df['室'].astype(float)\n",
    "df['厅'] = df['厅'].astype(float)\n",
    "del df['layout']\n",
    "df.head()"
   ]
  },
  {
   "cell_type": "code",
   "execution_count": 102,
   "metadata": {},
   "outputs": [
    {
     "name": "stdout",
     "output_type": "stream",
     "text": [
      "<class 'pandas.core.frame.DataFrame'>\n",
      "Int64Index: 67753 entries, 0 to 73304\n",
      "Data columns (total 12 columns):\n",
      "house_title     67753 non-null object\n",
      "district        67753 non-null object\n",
      "house_detail    67753 non-null object\n",
      "house_price     67753 non-null int64\n",
      "s_cate          67753 non-null object\n",
      "singel_price    67753 non-null float64\n",
      "house_time      67753 non-null object\n",
      "area            67753 non-null float64\n",
      "floor           67753 non-null object\n",
      "trafic          67753 non-null object\n",
      "室               67753 non-null float64\n",
      "厅               67753 non-null float64\n",
      "dtypes: float64(4), int64(1), object(7)\n",
      "memory usage: 6.7+ MB\n"
     ]
    }
   ],
   "source": [
    "df.dropna(inplace=True)\n",
    "df.info()"
   ]
  },
  {
   "cell_type": "code",
   "execution_count": 103,
   "metadata": {},
   "outputs": [
    {
     "data": {
      "text/plain": [
       "Index(['house_title', 'district', 'house_detail', 'house_price', 's_cate',\n",
       "       'singel_price', 'house_time', 'area', 'floor', 'trafic', '室', '厅'],\n",
       "      dtype='object')"
      ]
     },
     "execution_count": 103,
     "metadata": {},
     "output_type": "execute_result"
    }
   ],
   "source": [
    "df.columns"
   ]
  },
  {
   "cell_type": "markdown",
   "metadata": {},
   "source": [
    "### 删除不需要用到的信息如房子的基本信息描述 "
   ]
  },
  {
   "cell_type": "code",
   "execution_count": 104,
   "metadata": {},
   "outputs": [],
   "source": [
    "del df['house_title']\n",
    "del df['house_detail']\n",
    "del df['s_cate']"
   ]
  },
  {
   "cell_type": "code",
   "execution_count": 105,
   "metadata": {},
   "outputs": [
    {
     "name": "stdout",
     "output_type": "stream",
     "text": [
      "[-61.47368693] [[6.41045431]]\n"
     ]
    }
   ],
   "source": [
    "from sklearn.linear_model import LinearRegression\n",
    "linear = LinearRegression()\n",
    "area=df['area']\n",
    "price=df['house_price']\n",
    "area = np.array(area).reshape(-1,1) # 这里需要注意新版的sklearn需要将数据转换为矩阵才能进行计算\n",
    "price = np.array(price).reshape(-1,1)\n",
    "# 训练模型\n",
    "model = linear.fit(area,price)\n",
    "# 打印截距和回归系数\n",
    "\n",
    "print(model.intercept_, model.coef_)"
   ]
  },
  {
   "cell_type": "code",
   "execution_count": 106,
   "metadata": {},
   "outputs": [
    {
     "data": {
      "image/png": "[encoded data removed]",
      "text/plain": [
       "<Figure size 864x432 with 1 Axes>"
      ]
     },
     "metadata": {
      "needs_background": "light"
     },
     "output_type": "display_data"
    }
   ],
   "source": [
    "linear_p = model.predict(area)\n",
    "plt.figure(figsize=(12,6))\n",
    "plt.scatter(area,price)\n",
    "plt.plot(area,linear_p,'red')\n",
    "plt.xlabel(\"area\")\n",
    "plt.ylabel(\"price\")\n",
    "plt.show()"
   ]
  },
  {
   "cell_type": "markdown",
   "metadata": {},
   "source": [
    "#### 上面用线性回归模型对房价进行简单的预测 红色的代表预测房价，而蓝色点代表真实值。可以看出在面积小于1000时真实值紧密分布在预测值两旁"
   ]
  },
  {
   "cell_type": "markdown",
   "metadata": {},
   "source": [
    " # 注意！"
   ]
  },
  {
   "cell_type": "markdown",
   "metadata": {},
   "source": [
    "## 当是用Jupyter Notebook编程时，第一步请检查Notebook是否可读性可写"
   ]
  },
  {
   "cell_type": "markdown",
   "metadata": {},
   "source": [
    "![jupyter](./jup.png)"
   ]
  },
  {
   "cell_type": "markdown",
   "metadata": {},
   "source": [
    "## 如果显示read-only，请打开终端（CMD），输入sudo chmod -R 777 filename，给文件夹授权，之后重新打开Jupyter Notebook方可保存文件。"
   ]
  },
  {
   "cell_type": "markdown",
   "metadata": {},
   "source": [
    " "
   ]
  },
  {
   "cell_type": "markdown",
   "metadata": {},
   "source": [
    " "
   ]
  },
  {
   "cell_type": "code",
   "execution_count": null,
   "metadata": {},
   "outputs": [],
   "source": []
  }
 ],
 "metadata": {
  "kernelspec": {
   "display_name": "Python 3",
   "language": "python",
   "name": "python3"
  },
  "language_info": {
   "codemirror_mode": {
    "name": "ipython",
    "version": 3
   },
   "file_extension": ".py",
   "mimetype": "text/x-python",
   "name": "python",
   "nbconvert_exporter": "python",
   "pygments_lexer": "ipython3",
   "version": "3.7.4"
  },
  "toc": {
   "base_numbering": 1,
   "nav_menu": {},
   "number_sections": true,
   "sideBar": true,
   "skip_h1_title": false,
   "title_cell": "Table of Contents",
   "title_sidebar": "Contents",
   "toc_cell": false,
   "toc_position": {},
   "toc_section_display": true,
   "toc_window_display": false
  }
 },
 "nbformat": 4,
 "nbformat_minor": 4
}
